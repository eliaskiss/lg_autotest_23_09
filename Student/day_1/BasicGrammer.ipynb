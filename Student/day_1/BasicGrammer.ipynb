{
 "cells": [
  {
   "cell_type": "markdown",
   "id": "65dde282",
   "metadata": {},
   "source": [
    "### https://www.geeksforgeeks.org/python-programming-language/?ref=lbp"
   ]
  },
  {
   "cell_type": "markdown",
   "id": "5bb14fea",
   "metadata": {},
   "source": [
    "### Quotation in Python"
   ]
  },
  {
   "cell_type": "code",
   "execution_count": 3,
   "id": "02e04ed4",
   "metadata": {},
   "outputs": [
    {
     "name": "stdout",
     "output_type": "stream",
     "text": [
      "Hello World\n"
     ]
    }
   ],
   "source": [
    "string = 'Hello World'\n",
    "print(string)"
   ]
  },
  {
   "cell_type": "code",
   "execution_count": 2,
   "id": "6fb7954a-7848-498f-8ccd-b2b9ed5b4729",
   "metadata": {},
   "outputs": [
    {
     "data": {
      "text/plain": [
       "'Hello World'"
      ]
     },
     "execution_count": 2,
     "metadata": {},
     "output_type": "execute_result"
    }
   ],
   "source": [
    "string = \"Hello World\"\n",
    "string"
   ]
  },
  {
   "cell_type": "code",
   "execution_count": 19,
   "id": "55ccadc1",
   "metadata": {
    "scrolled": true
   },
   "outputs": [
    {
     "data": {
      "text/plain": [
       "'Hello World \"Elias\"'"
      ]
     },
     "execution_count": 19,
     "metadata": {},
     "output_type": "execute_result"
    }
   ],
   "source": [
    "string = 'Hello World \"Elias\"'\n",
    "string"
   ]
  },
  {
   "cell_type": "code",
   "execution_count": 14,
   "id": "45130dd7",
   "metadata": {},
   "outputs": [
    {
     "data": {
      "text/plain": [
       "\"Hello World 'Elias'\""
      ]
     },
     "execution_count": 14,
     "metadata": {},
     "output_type": "execute_result"
    }
   ],
   "source": [
    "string = \"Hello World 'Elias'\"\n",
    "string"
   ]
  },
  {
   "cell_type": "code",
   "execution_count": 5,
   "id": "05975117",
   "metadata": {},
   "outputs": [
    {
     "data": {
      "text/plain": [
       "'Hello World'"
      ]
     },
     "execution_count": 5,
     "metadata": {},
     "output_type": "execute_result"
    }
   ],
   "source": [
    "string = '''Hello World'''\n",
    "string"
   ]
  },
  {
   "cell_type": "code",
   "execution_count": 4,
   "id": "4184d665",
   "metadata": {},
   "outputs": [
    {
     "ename": "SyntaxError",
     "evalue": "EOL while scanning string literal (1117298684.py, line 1)",
     "output_type": "error",
     "traceback": [
      "\u001b[1;36m  Cell \u001b[1;32mIn[4], line 1\u001b[1;36m\u001b[0m\n\u001b[1;33m    string = \"Hello\u001b[0m\n\u001b[1;37m                   ^\u001b[0m\n\u001b[1;31mSyntaxError\u001b[0m\u001b[1;31m:\u001b[0m EOL while scanning string literal\n"
     ]
    }
   ],
   "source": [
    "string = \"Hello\n",
    "World\"\n",
    "string"
   ]
  },
  {
   "cell_type": "code",
   "execution_count": 6,
   "id": "f52946cd",
   "metadata": {},
   "outputs": [
    {
     "name": "stdout",
     "output_type": "stream",
     "text": [
      "Hello fdjslkafjkldsj fdjklsfjldsajfljdsa fjdklsajfkldsja jkfldjsklafjdkls World\n"
     ]
    }
   ],
   "source": [
    "string = \"Hello fdjslkafjkldsj fdjklsfjldsajfljdsa fjdklsajfkldsja \\\n",
    "jkfldjsklafjdkls \\\n",
    "World\"\n",
    "string\n",
    "print(string)"
   ]
  },
  {
   "cell_type": "code",
   "execution_count": 24,
   "id": "92d80f71",
   "metadata": {},
   "outputs": [
    {
     "name": "stdout",
     "output_type": "stream",
     "text": [
      "Hello\n",
      "World\n"
     ]
    }
   ],
   "source": [
    "string = '''Hello\n",
    "World'''\n",
    "string\n",
    "print(string)"
   ]
  },
  {
   "cell_type": "code",
   "execution_count": 7,
   "id": "cf6219ac-86d6-4f7d-9784-297f3521b858",
   "metadata": {},
   "outputs": [
    {
     "name": "stdout",
     "output_type": "stream",
     "text": [
      "Hello World\n"
     ]
    }
   ],
   "source": [
    "string = 'Hello \\\n",
    "World'\n",
    "string\n",
    "print(string)"
   ]
  },
  {
   "cell_type": "code",
   "execution_count": null,
   "id": "c2fcaedf",
   "metadata": {},
   "outputs": [],
   "source": [
    "print(string)"
   ]
  },
  {
   "cell_type": "code",
   "execution_count": 27,
   "id": "9f2dab0e",
   "metadata": {},
   "outputs": [
    {
     "name": "stdout",
     "output_type": "stream",
     "text": [
      "Hello\n",
      " World\n"
     ]
    }
   ],
   "source": [
    "a = 'Hello'\n",
    "b = ' World'\n",
    "print(a) # print(a, end='\\n')\n",
    "print(b)"
   ]
  },
  {
   "cell_type": "code",
   "execution_count": 8,
   "id": "32d8521d",
   "metadata": {},
   "outputs": [
    {
     "name": "stdout",
     "output_type": "stream",
     "text": [
      "Hello World\n"
     ]
    }
   ],
   "source": [
    "a = 'Hello'\n",
    "b = ' World'\n",
    "print(a, end='')\n",
    "# print(a, end='_')\n",
    "print(b)"
   ]
  },
  {
   "cell_type": "code",
   "execution_count": 30,
   "id": "2df4a83e",
   "metadata": {},
   "outputs": [
    {
     "name": "stdout",
     "output_type": "stream",
     "text": [
      "Hello  World\n"
     ]
    }
   ],
   "source": [
    "print(a, b)"
   ]
  },
  {
   "cell_type": "code",
   "execution_count": 9,
   "id": "0cde53df",
   "metadata": {},
   "outputs": [
    {
     "name": "stdout",
     "output_type": "stream",
     "text": [
      "'Hello World'\n"
     ]
    },
    {
     "data": {
      "text/plain": [
       "\"'Hello World'\""
      ]
     },
     "execution_count": 9,
     "metadata": {},
     "output_type": "execute_result"
    }
   ],
   "source": [
    "string = \"'Hello World'\"\n",
    "print(string)\n",
    "string"
   ]
  },
  {
   "cell_type": "markdown",
   "id": "92591e09",
   "metadata": {},
   "source": [
    "### Comments in Python"
   ]
  },
  {
   "cell_type": "code",
   "execution_count": 1,
   "id": "4b560e7a",
   "metadata": {},
   "outputs": [],
   "source": [
    "# This is comment"
   ]
  },
  {
   "cell_type": "code",
   "execution_count": null,
   "id": "0db728fa",
   "metadata": {},
   "outputs": [],
   "source": [
    "\n",
    "# This\n",
    "is\n",
    "'''\n",
    "multiline\n",
    "comments\n",
    "'''"
   ]
  },
  {
   "cell_type": "code",
   "execution_count": null,
   "id": "81052139-c580-4441-b4f4-513a09f5e5d0",
   "metadata": {},
   "outputs": [],
   "source": [
    "# This\n",
    "# is\n",
    "# multiline\n",
    "# comments"
   ]
  },
  {
   "cell_type": "markdown",
   "id": "ad06ab80",
   "metadata": {},
   "source": [
    "### Standard Data Types"
   ]
  },
  {
   "cell_type": "markdown",
   "id": "848bdc40",
   "metadata": {},
   "source": [
    "<img src=\"https://media.geeksforgeeks.org/wp-content/uploads/20191224133121/Python-data-structure1.jpg\" width=500>"
   ]
  },
  {
   "cell_type": "markdown",
   "id": "fe8ac16e",
   "metadata": {},
   "source": [
    "### Boolean"
   ]
  },
  {
   "cell_type": "code",
   "execution_count": 2,
   "id": "f0f15d01",
   "metadata": {},
   "outputs": [
    {
     "name": "stdout",
     "output_type": "stream",
     "text": [
      "<class 'bool'>\n",
      "False\n"
     ]
    }
   ],
   "source": [
    "a = (10 == 20)\n",
    "print(type(a))\n",
    "print(a) # True / False"
   ]
  },
  {
   "cell_type": "markdown",
   "id": "b301018d",
   "metadata": {},
   "source": [
    "true false True  False"
   ]
  },
  {
   "cell_type": "code",
   "execution_count": 3,
   "id": "589e72f9",
   "metadata": {},
   "outputs": [
    {
     "data": {
      "text/plain": [
       "False"
      ]
     },
     "execution_count": 3,
     "metadata": {},
     "output_type": "execute_result"
    }
   ],
   "source": [
    "a = ('abc' == 'def')\n",
    "a"
   ]
  },
  {
   "cell_type": "code",
   "execution_count": null,
   "id": "bd54168e",
   "metadata": {},
   "outputs": [],
   "source": [
    "objA == objB # ClassA instance"
   ]
  },
  {
   "cell_type": "code",
   "execution_count": 4,
   "id": "788db924",
   "metadata": {},
   "outputs": [
    {
     "data": {
      "text/plain": [
       "2"
      ]
     },
     "execution_count": 4,
     "metadata": {},
     "output_type": "execute_result"
    }
   ],
   "source": [
    "True + True"
   ]
  },
  {
   "cell_type": "code",
   "execution_count": 5,
   "id": "b59b0808",
   "metadata": {},
   "outputs": [
    {
     "data": {
      "text/plain": [
       "0"
      ]
     },
     "execution_count": 5,
     "metadata": {},
     "output_type": "execute_result"
    }
   ],
   "source": [
    "True * False"
   ]
  },
  {
   "cell_type": "code",
   "execution_count": 6,
   "id": "5cfa2867",
   "metadata": {},
   "outputs": [
    {
     "data": {
      "text/plain": [
       "1"
      ]
     },
     "execution_count": 6,
     "metadata": {},
     "output_type": "execute_result"
    }
   ],
   "source": [
    "True * True"
   ]
  },
  {
   "cell_type": "code",
   "execution_count": 7,
   "id": "b1c38a23",
   "metadata": {},
   "outputs": [
    {
     "data": {
      "text/plain": [
       "0"
      ]
     },
     "execution_count": 7,
     "metadata": {},
     "output_type": "execute_result"
    }
   ],
   "source": [
    "False * False"
   ]
  },
  {
   "cell_type": "code",
   "execution_count": 9,
   "id": "df82dd19",
   "metadata": {},
   "outputs": [
    {
     "ename": "ZeroDivisionError",
     "evalue": "division by zero",
     "output_type": "error",
     "traceback": [
      "\u001b[1;31m---------------------------------------------------------------------------\u001b[0m",
      "\u001b[1;31mZeroDivisionError\u001b[0m                         Traceback (most recent call last)",
      "Cell \u001b[1;32mIn[9], line 1\u001b[0m\n\u001b[1;32m----> 1\u001b[0m \u001b[38;5;28;43;01mTrue\u001b[39;49;00m\u001b[38;5;241;43m/\u001b[39;49m\u001b[38;5;28;43;01mFalse\u001b[39;49;00m\n",
      "\u001b[1;31mZeroDivisionError\u001b[0m: division by zero"
     ]
    }
   ],
   "source": [
    "True/False"
   ]
  },
  {
   "cell_type": "markdown",
   "id": "d10fb012",
   "metadata": {},
   "source": [
    "### Numbers"
   ]
  },
  {
   "cell_type": "markdown",
   "id": "0b1e7910",
   "metadata": {},
   "source": [
    "#### Integer (정수형)"
   ]
  },
  {
   "cell_type": "code",
   "execution_count": 10,
   "id": "622612c8",
   "metadata": {},
   "outputs": [
    {
     "data": {
      "text/plain": [
       "int"
      ]
     },
     "execution_count": 10,
     "metadata": {},
     "output_type": "execute_result"
    }
   ],
   "source": [
    "a = 100\n",
    "type(a)\n",
    "# a"
   ]
  },
  {
   "cell_type": "markdown",
   "id": "b1d4a907",
   "metadata": {},
   "source": [
    "##### Float (실수형)"
   ]
  },
  {
   "cell_type": "code",
   "execution_count": 11,
   "id": "2f568132",
   "metadata": {},
   "outputs": [
    {
     "data": {
      "text/plain": [
       "float"
      ]
     },
     "execution_count": 11,
     "metadata": {},
     "output_type": "execute_result"
    }
   ],
   "source": [
    "a = 100.0\n",
    "type(a)\n",
    "# a"
   ]
  },
  {
   "cell_type": "markdown",
   "id": "3d7e4cc9",
   "metadata": {},
   "source": [
    "#### 지수표현"
   ]
  },
  {
   "cell_type": "markdown",
   "id": "9daef7f6",
   "metadata": {},
   "source": [
    "123 * 10<sup>2</sup> = 123 * 100"
   ]
  },
  {
   "cell_type": "code",
   "execution_count": 14,
   "id": "751f6113",
   "metadata": {},
   "outputs": [
    {
     "data": {
      "text/plain": [
       "12300.0"
      ]
     },
     "execution_count": 14,
     "metadata": {},
     "output_type": "execute_result"
    }
   ],
   "source": [
    "a = 123e2\n",
    "a"
   ]
  },
  {
   "cell_type": "markdown",
   "id": "22b3cde2",
   "metadata": {},
   "source": [
    "123 * 10<sup>-2</sup> = 123 * 0.01"
   ]
  },
  {
   "cell_type": "code",
   "execution_count": 15,
   "id": "e4f3694f",
   "metadata": {},
   "outputs": [
    {
     "data": {
      "text/plain": [
       "1.23"
      ]
     },
     "execution_count": 15,
     "metadata": {},
     "output_type": "execute_result"
    }
   ],
   "source": [
    "a = 123e-2\n",
    "a"
   ]
  },
  {
   "cell_type": "markdown",
   "id": "8abbe2fb",
   "metadata": {},
   "source": [
    "#### 이진법 표현"
   ]
  },
  {
   "cell_type": "code",
   "execution_count": 16,
   "id": "dafce741",
   "metadata": {},
   "outputs": [
    {
     "data": {
      "text/plain": [
       "'0b1010'"
      ]
     },
     "execution_count": 16,
     "metadata": {},
     "output_type": "execute_result"
    }
   ],
   "source": [
    "bin(10)"
   ]
  },
  {
   "cell_type": "code",
   "execution_count": 17,
   "id": "a8f384ce",
   "metadata": {},
   "outputs": [
    {
     "data": {
      "text/plain": [
       "'1010'"
      ]
     },
     "execution_count": 17,
     "metadata": {},
     "output_type": "execute_result"
    }
   ],
   "source": [
    "bin(10)[2:]"
   ]
  },
  {
   "cell_type": "markdown",
   "id": "a8b810b3",
   "metadata": {},
   "source": [
    "#### 부동소수점 오차"
   ]
  },
  {
   "cell_type": "markdown",
   "id": "9533ee6c",
   "metadata": {},
   "source": [
    "> 1보다 작은 수의 경우에는 십진법으로 간단히 표현되는 수도 이진법에서는 무한개의 유효숫자를 가질 수 있다. 예를 들어 0.1이라는 숫자는 십진수로는 간단히 표현되지만 이진수로 나타내면 다음과 같이 0011이 무한히 반복되는 실수가 된다.\n",
    "\n",
    "> 0.1=0.00011001100110011001100110011001100110011001100110011001100110011⋯\n",
    "\n",
    "> 그런데 컴퓨터에서는 하나의 숫자를 나타내기 위한 메모리 크기가 제한되어 있어서 특정 소수점 이하는 생략하고 가장 비슷한 숫자로 표현할 수 밖에 없다. 0.1은 실제로는 가장 비슷한 다음과 같은 숫자로 저장된다.\n",
    "\n",
    "> 0.1≈0.1000000000000000055511151231257827021181583404541015625\n"
   ]
  },
  {
   "cell_type": "code",
   "execution_count": 12,
   "id": "ab4437f6",
   "metadata": {},
   "outputs": [
    {
     "data": {
      "text/plain": [
       "False"
      ]
     },
     "execution_count": 12,
     "metadata": {},
     "output_type": "execute_result"
    }
   ],
   "source": [
    "0.1 + 0.2 == 0.3"
   ]
  },
  {
   "cell_type": "code",
   "execution_count": 19,
   "id": "5b50fa91",
   "metadata": {},
   "outputs": [
    {
     "data": {
      "text/plain": [
       "0.1"
      ]
     },
     "execution_count": 19,
     "metadata": {},
     "output_type": "execute_result"
    }
   ],
   "source": [
    "0.1"
   ]
  },
  {
   "cell_type": "code",
   "execution_count": 20,
   "id": "21cc7968",
   "metadata": {},
   "outputs": [
    {
     "data": {
      "text/plain": [
       "0.2"
      ]
     },
     "execution_count": 20,
     "metadata": {},
     "output_type": "execute_result"
    }
   ],
   "source": [
    "0.2"
   ]
  },
  {
   "cell_type": "code",
   "execution_count": 21,
   "id": "2d248e54",
   "metadata": {},
   "outputs": [
    {
     "data": {
      "text/plain": [
       "0.3"
      ]
     },
     "execution_count": 21,
     "metadata": {},
     "output_type": "execute_result"
    }
   ],
   "source": [
    "0.3"
   ]
  },
  {
   "cell_type": "code",
   "execution_count": 22,
   "id": "7cb43846",
   "metadata": {},
   "outputs": [
    {
     "data": {
      "text/plain": [
       "0.30000000000000004"
      ]
     },
     "execution_count": 22,
     "metadata": {},
     "output_type": "execute_result"
    }
   ],
   "source": [
    "0.1 + 0.2"
   ]
  },
  {
   "cell_type": "code",
   "execution_count": 13,
   "id": "ee4b048e",
   "metadata": {},
   "outputs": [
    {
     "data": {
      "text/plain": [
       "'%.55f'"
      ]
     },
     "execution_count": 13,
     "metadata": {},
     "output_type": "execute_result"
    }
   ],
   "source": [
    "%precision 55"
   ]
  },
  {
   "cell_type": "code",
   "execution_count": 14,
   "id": "9ae2ba6c",
   "metadata": {},
   "outputs": [
    {
     "data": {
      "text/plain": [
       "0.1000000000000000055511151231257827021181583404541015625"
      ]
     },
     "execution_count": 14,
     "metadata": {},
     "output_type": "execute_result"
    }
   ],
   "source": [
    "0.1"
   ]
  },
  {
   "cell_type": "code",
   "execution_count": 15,
   "id": "366f92a5-6b16-411e-8ae9-c79aa590784a",
   "metadata": {},
   "outputs": [
    {
     "data": {
      "text/plain": [
       "0.2000000000000000111022302462515654042363166809082031250"
      ]
     },
     "execution_count": 15,
     "metadata": {},
     "output_type": "execute_result"
    }
   ],
   "source": [
    "0.2"
   ]
  },
  {
   "cell_type": "code",
   "execution_count": 25,
   "id": "f398f50c",
   "metadata": {},
   "outputs": [
    {
     "data": {
      "text/plain": [
       "0.3000000000000000444089209850062616169452667236328125000"
      ]
     },
     "execution_count": 25,
     "metadata": {},
     "output_type": "execute_result"
    }
   ],
   "source": [
    "0.1 + 0.2"
   ]
  },
  {
   "cell_type": "code",
   "execution_count": 26,
   "id": "379b97bf",
   "metadata": {},
   "outputs": [
    {
     "data": {
      "text/plain": [
       "0.2999999999999999888977697537484345957636833190917968750"
      ]
     },
     "execution_count": 26,
     "metadata": {},
     "output_type": "execute_result"
    }
   ],
   "source": [
    "0.3"
   ]
  },
  {
   "cell_type": "code",
   "execution_count": 27,
   "id": "76320059",
   "metadata": {},
   "outputs": [
    {
     "data": {
      "text/plain": [
       "True"
      ]
     },
     "execution_count": 27,
     "metadata": {},
     "output_type": "execute_result"
    }
   ],
   "source": [
    "round(0.1 + 0.2, 1) == round(0.3, 1)"
   ]
  },
  {
   "cell_type": "code",
   "execution_count": 28,
   "id": "72e74a45",
   "metadata": {},
   "outputs": [
    {
     "data": {
      "text/plain": [
       "'%r'"
      ]
     },
     "execution_count": 28,
     "metadata": {},
     "output_type": "execute_result"
    }
   ],
   "source": [
    "%precision %r"
   ]
  },
  {
   "cell_type": "code",
   "execution_count": 29,
   "id": "9170f607",
   "metadata": {},
   "outputs": [
    {
     "data": {
      "text/plain": [
       "0.1"
      ]
     },
     "execution_count": 29,
     "metadata": {},
     "output_type": "execute_result"
    }
   ],
   "source": [
    "0.1"
   ]
  },
  {
   "cell_type": "markdown",
   "id": "2d284be3",
   "metadata": {},
   "source": [
    "#### 형변환"
   ]
  },
  {
   "cell_type": "code",
   "execution_count": 30,
   "id": "81c6d6e9",
   "metadata": {},
   "outputs": [
    {
     "name": "stdout",
     "output_type": "stream",
     "text": [
      "<class 'int'>\n",
      "100\n"
     ]
    }
   ],
   "source": [
    "a = 100.0 # float\n",
    "b = int(a)\n",
    "print(type(b))\n",
    "print(b)"
   ]
  },
  {
   "cell_type": "code",
   "execution_count": 31,
   "id": "9a08b95c",
   "metadata": {},
   "outputs": [
    {
     "data": {
      "text/plain": [
       "100"
      ]
     },
     "execution_count": 31,
     "metadata": {},
     "output_type": "execute_result"
    }
   ],
   "source": [
    "b"
   ]
  },
  {
   "cell_type": "code",
   "execution_count": 32,
   "id": "b4ce06e4",
   "metadata": {},
   "outputs": [
    {
     "data": {
      "text/plain": [
       "float"
      ]
     },
     "execution_count": 32,
     "metadata": {},
     "output_type": "execute_result"
    }
   ],
   "source": [
    "c = float(b)\n",
    "type(c)"
   ]
  },
  {
   "cell_type": "code",
   "execution_count": 33,
   "id": "4eb3e265",
   "metadata": {},
   "outputs": [
    {
     "data": {
      "text/plain": [
       "100.0"
      ]
     },
     "execution_count": 33,
     "metadata": {},
     "output_type": "execute_result"
    }
   ],
   "source": [
    "c"
   ]
  },
  {
   "cell_type": "code",
   "execution_count": 34,
   "id": "7f9d575e",
   "metadata": {},
   "outputs": [
    {
     "data": {
      "text/plain": [
       "1.1234567890123457"
      ]
     },
     "execution_count": 34,
     "metadata": {},
     "output_type": "execute_result"
    }
   ],
   "source": [
    "d = 1.12345678901234567890\n",
    "d"
   ]
  },
  {
   "cell_type": "code",
   "execution_count": 35,
   "id": "472b0ba8",
   "metadata": {},
   "outputs": [
    {
     "data": {
      "text/plain": [
       "1.12"
      ]
     },
     "execution_count": 35,
     "metadata": {},
     "output_type": "execute_result"
    }
   ],
   "source": [
    "round(d, 2) # 소수점 자리"
   ]
  },
  {
   "cell_type": "markdown",
   "id": "30504492",
   "metadata": {},
   "source": [
    "### String"
   ]
  },
  {
   "cell_type": "code",
   "execution_count": 36,
   "id": "3f2b00a4",
   "metadata": {},
   "outputs": [
    {
     "data": {
      "text/plain": [
       "'Hello World'"
      ]
     },
     "execution_count": 36,
     "metadata": {},
     "output_type": "execute_result"
    }
   ],
   "source": [
    "a = 'Hello World' # strlen(a) a[strlen(a)-1]\n",
    "a"
   ]
  },
  {
   "cell_type": "markdown",
   "id": "a3e0d894",
   "metadata": {},
   "source": [
    "배열의 조건\n",
    "1. 연속된 데이터\n",
    "2. 동일한 type"
   ]
  },
  {
   "cell_type": "code",
   "execution_count": 37,
   "id": "95369606",
   "metadata": {},
   "outputs": [
    {
     "data": {
      "text/plain": [
       "'d'"
      ]
     },
     "execution_count": 37,
     "metadata": {},
     "output_type": "execute_result"
    }
   ],
   "source": [
    "a[-1]"
   ]
  },
  {
   "cell_type": "markdown",
   "id": "7ed52738",
   "metadata": {},
   "source": [
    "#### Slicing"
   ]
  },
  {
   "cell_type": "code",
   "execution_count": 39,
   "id": "950cf024",
   "metadata": {},
   "outputs": [
    {
     "data": {
      "text/plain": [
       "'Hello World'"
      ]
     },
     "execution_count": 39,
     "metadata": {},
     "output_type": "execute_result"
    }
   ],
   "source": [
    "a"
   ]
  },
  {
   "cell_type": "code",
   "execution_count": 38,
   "id": "6a64d0f0",
   "metadata": {},
   "outputs": [
    {
     "data": {
      "text/plain": [
       "'e'"
      ]
     },
     "execution_count": 38,
     "metadata": {},
     "output_type": "execute_result"
    }
   ],
   "source": [
    "a[1]"
   ]
  },
  {
   "cell_type": "code",
   "execution_count": 40,
   "id": "1b1dd255",
   "metadata": {},
   "outputs": [
    {
     "data": {
      "text/plain": [
       "'el'"
      ]
     },
     "execution_count": 40,
     "metadata": {},
     "output_type": "execute_result"
    }
   ],
   "source": [
    "a[1:3]"
   ]
  },
  {
   "cell_type": "code",
   "execution_count": 41,
   "id": "31808e71",
   "metadata": {},
   "outputs": [
    {
     "data": {
      "text/plain": [
       "'el ol'"
      ]
     },
     "execution_count": 41,
     "metadata": {},
     "output_type": "execute_result"
    }
   ],
   "source": [
    "a[1::2] # for(star:end:step) --> [start:end:step]"
   ]
  },
  {
   "cell_type": "code",
   "execution_count": 42,
   "id": "13f05c3e",
   "metadata": {},
   "outputs": [
    {
     "data": {
      "text/plain": [
       "'d'"
      ]
     },
     "execution_count": 42,
     "metadata": {},
     "output_type": "execute_result"
    }
   ],
   "source": [
    "a[-1]"
   ]
  },
  {
   "cell_type": "code",
   "execution_count": 43,
   "id": "e55a0779",
   "metadata": {},
   "outputs": [
    {
     "data": {
      "text/plain": [
       "'dlroW olleH'"
      ]
     },
     "execution_count": 43,
     "metadata": {},
     "output_type": "execute_result"
    }
   ],
   "source": [
    "a[::-1]"
   ]
  },
  {
   "cell_type": "code",
   "execution_count": 44,
   "id": "6dc79c80",
   "metadata": {},
   "outputs": [
    {
     "data": {
      "text/plain": [
       "'llo World'"
      ]
     },
     "execution_count": 44,
     "metadata": {},
     "output_type": "execute_result"
    }
   ],
   "source": [
    "a[2:] # step 의 기본값은 1 --> a[2::1]"
   ]
  },
  {
   "cell_type": "code",
   "execution_count": 45,
   "id": "273dc318",
   "metadata": {},
   "outputs": [
    {
     "data": {
      "text/plain": [
       "'Hello'"
      ]
     },
     "execution_count": 45,
     "metadata": {},
     "output_type": "execute_result"
    }
   ],
   "source": [
    "a[:5] # a[0:5:1]"
   ]
  },
  {
   "cell_type": "code",
   "execution_count": null,
   "id": "2750a272",
   "metadata": {},
   "outputs": [],
   "source": [
    "a[-1]"
   ]
  },
  {
   "cell_type": "code",
   "execution_count": 46,
   "id": "21c286c1",
   "metadata": {},
   "outputs": [
    {
     "data": {
      "text/plain": [
       "'World'"
      ]
     },
     "execution_count": 46,
     "metadata": {},
     "output_type": "execute_result"
    }
   ],
   "source": [
    "a[-5:] # a[-5::1]"
   ]
  },
  {
   "cell_type": "markdown",
   "id": "7c360c87",
   "metadata": {},
   "source": [
    "#### Operation"
   ]
  },
  {
   "cell_type": "code",
   "execution_count": 47,
   "id": "c21f4e86",
   "metadata": {},
   "outputs": [
    {
     "data": {
      "text/plain": [
       "'HelloWorld'"
      ]
     },
     "execution_count": 47,
     "metadata": {},
     "output_type": "execute_result"
    }
   ],
   "source": [
    "a = 'Hello'\n",
    "b = 'World'\n",
    "c = a + b\n",
    "c"
   ]
  },
  {
   "cell_type": "code",
   "execution_count": 48,
   "id": "7fd4ab95",
   "metadata": {},
   "outputs": [
    {
     "ename": "TypeError",
     "evalue": "can't multiply sequence by non-int of type 'str'",
     "output_type": "error",
     "traceback": [
      "\u001b[1;31m---------------------------------------------------------------------------\u001b[0m",
      "\u001b[1;31mTypeError\u001b[0m                                 Traceback (most recent call last)",
      "Cell \u001b[1;32mIn[48], line 1\u001b[0m\n\u001b[1;32m----> 1\u001b[0m \u001b[43ma\u001b[49m\u001b[43m \u001b[49m\u001b[38;5;241;43m*\u001b[39;49m\u001b[43m \u001b[49m\u001b[43mb\u001b[49m\n",
      "\u001b[1;31mTypeError\u001b[0m: can't multiply sequence by non-int of type 'str'"
     ]
    }
   ],
   "source": [
    "a * b"
   ]
  },
  {
   "cell_type": "code",
   "execution_count": 49,
   "id": "98f95fe4",
   "metadata": {},
   "outputs": [
    {
     "data": {
      "text/plain": [
       "'HelloWorldHelloWorldHelloWorldHelloWorld'"
      ]
     },
     "execution_count": 49,
     "metadata": {},
     "output_type": "execute_result"
    }
   ],
   "source": [
    "c * 4"
   ]
  },
  {
   "cell_type": "code",
   "execution_count": 50,
   "id": "d0b124fc",
   "metadata": {},
   "outputs": [
    {
     "data": {
      "text/plain": [
       "'####################################################################################################'"
      ]
     },
     "execution_count": 50,
     "metadata": {},
     "output_type": "execute_result"
    }
   ],
   "source": [
    "'#' * 100"
   ]
  },
  {
   "cell_type": "code",
   "execution_count": 51,
   "id": "da1eb821",
   "metadata": {},
   "outputs": [
    {
     "data": {
      "text/plain": [
       "'----------------------------------------------------------------------------------------------------'"
      ]
     },
     "execution_count": 51,
     "metadata": {},
     "output_type": "execute_result"
    }
   ],
   "source": [
    "'-' * 100"
   ]
  },
  {
   "cell_type": "code",
   "execution_count": 53,
   "id": "bca1507f",
   "metadata": {},
   "outputs": [
    {
     "data": {
      "text/plain": [
       "'HelloWorld'"
      ]
     },
     "execution_count": 53,
     "metadata": {},
     "output_type": "execute_result"
    }
   ],
   "source": [
    "c"
   ]
  },
  {
   "cell_type": "code",
   "execution_count": 52,
   "id": "ca899a90",
   "metadata": {},
   "outputs": [
    {
     "name": "stdout",
     "output_type": "stream",
     "text": [
      "Yes\n"
     ]
    }
   ],
   "source": [
    "# 포함여부 확인\n",
    "if 'Hello' in c:\n",
    "    print('Yes')\n",
    "else:\n",
    "    print('No')"
   ]
  },
  {
   "cell_type": "code",
   "execution_count": 54,
   "id": "6bdc586f",
   "metadata": {},
   "outputs": [
    {
     "name": "stdout",
     "output_type": "stream",
     "text": [
      "No\n"
     ]
    }
   ],
   "source": [
    "# 비포함 여부확인\n",
    "if 'Hello' not in c:\n",
    "    print('Yes')\n",
    "else:\n",
    "    print('No')"
   ]
  },
  {
   "cell_type": "markdown",
   "id": "62cc7863",
   "metadata": {},
   "source": [
    "#### Formatting (%)"
   ]
  },
  {
   "cell_type": "code",
   "execution_count": 55,
   "id": "4cced5eb",
   "metadata": {},
   "outputs": [
    {
     "name": "stdout",
     "output_type": "stream",
     "text": [
      "Charactor: A\n",
      "String: Elias Kim\n",
      "Integer: 22\n",
      "Float: 180.500000\n",
      "Hex: 0x2f 0x2F\n",
      "Exponential: 2.200000e+01\n"
     ]
    }
   ],
   "source": [
    "char_A = 'A'\n",
    "name = 'Elias Kim'\n",
    "age = 22\n",
    "height = 180.5\n",
    "\n",
    "print('Charactor: %c' % ord(char_A)) # return ASCII Code\n",
    "print('String: %s' % name)\n",
    "print('Integer: %d' % age)\n",
    "\n",
    "print('Float: %f' % height)\n",
    "print('Hex: 0x%x 0x%X' % (47, 47))\n",
    "print('Exponential: %e' % age)"
   ]
  },
  {
   "cell_type": "code",
   "execution_count": 56,
   "id": "e05b6429",
   "metadata": {},
   "outputs": [
    {
     "name": "stdout",
     "output_type": "stream",
     "text": [
      "Elias Kim:22:180.5\n",
      "   22\n",
      "00022\n",
      "22.000\n"
     ]
    }
   ],
   "source": [
    "print('%s:%s:%s' % (name, age, height))\n",
    "print('%5d' % age)\n",
    "print('%05d' % age)\n",
    "print('%0.3f' % age)"
   ]
  },
  {
   "cell_type": "markdown",
   "id": "603a455a",
   "metadata": {},
   "source": [
    "#### Formatting(.format)"
   ]
  },
  {
   "cell_type": "code",
   "execution_count": 57,
   "id": "aecd102e",
   "metadata": {},
   "outputs": [
    {
     "data": {
      "text/plain": [
       "'Elias Kim: 22/180.5'"
      ]
     },
     "execution_count": 57,
     "metadata": {},
     "output_type": "execute_result"
    }
   ],
   "source": [
    "'{}: {}/{}'.format(name, age, height)"
   ]
  },
  {
   "cell_type": "code",
   "execution_count": 58,
   "id": "50093555",
   "metadata": {},
   "outputs": [
    {
     "data": {
      "text/plain": [
       "'Elias Kim: 22/180.5'"
      ]
     },
     "execution_count": 58,
     "metadata": {},
     "output_type": "execute_result"
    }
   ],
   "source": [
    "'{2}: {1}/{0}'.format(height, age, name)"
   ]
  },
  {
   "cell_type": "code",
   "execution_count": 59,
   "id": "e4ce3704",
   "metadata": {},
   "outputs": [
    {
     "data": {
      "text/plain": [
       "'Elias Kim: 22/180.5'"
      ]
     },
     "execution_count": 59,
     "metadata": {},
     "output_type": "execute_result"
    }
   ],
   "source": [
    "'{_name}: {_age}/{_height}'.format(_name=name, _age=age, _height=height)"
   ]
  },
  {
   "cell_type": "markdown",
   "id": "94f4b42b",
   "metadata": {},
   "source": [
    "#### Formattting (f-format)"
   ]
  },
  {
   "cell_type": "code",
   "execution_count": 60,
   "id": "02a67c36",
   "metadata": {},
   "outputs": [
    {
     "data": {
      "text/plain": [
       "'Elias Kim: 22/180.5'"
      ]
     },
     "execution_count": 60,
     "metadata": {},
     "output_type": "execute_result"
    }
   ],
   "source": [
    "f'{name}: {age}/{height}'"
   ]
  },
  {
   "cell_type": "code",
   "execution_count": 64,
   "id": "3ba77f60",
   "metadata": {},
   "outputs": [
    {
     "name": "stdout",
     "output_type": "stream",
     "text": [
      "\n"
     ]
    }
   ],
   "source": [
    "phone = ''\n",
    "phone_number = f'{phone}'\n",
    "phone = '12345'\n",
    "print(phone_number)"
   ]
  },
  {
   "cell_type": "code",
   "execution_count": 65,
   "id": "8f76ef2f",
   "metadata": {},
   "outputs": [
    {
     "name": "stdout",
     "output_type": "stream",
     "text": [
      "[          12345.6789]\n",
      "[          12345.6789]\n",
      "[12345.6789          ]\n",
      "[     12345.6789     ]\n",
      "[12345.7]\n",
      "[             12345.7]\n",
      "[            12,345.7]\n",
      "[12345.67890000000000]\n"
     ]
    }
   ],
   "source": [
    "num = 12345.67890\n",
    "print(f'[{num:20}]')\n",
    "print(f'[{num:>20}]')\n",
    "print(f'[{num:<20}]')\n",
    "print(f'[{num:^20}]')\n",
    "print(f'[{num:.1f}]')\n",
    "print(f'[{num:20.1f}]')\n",
    "print(f'[{num:20,.1f}]')\n",
    "print(f'[{num:0<20}]')"
   ]
  },
  {
   "cell_type": "markdown",
   "id": "0be1ed5c",
   "metadata": {},
   "source": [
    "#### Built-in String method"
   ]
  },
  {
   "cell_type": "code",
   "execution_count": 17,
   "id": "32220ace",
   "metadata": {},
   "outputs": [
    {
     "name": "stdout",
     "output_type": "stream",
     "text": [
      "<class 'str'>\n"
     ]
    }
   ],
   "source": [
    "a = 'helloWolrd'\n",
    "print(type(a))"
   ]
  },
  {
   "cell_type": "code",
   "execution_count": 67,
   "id": "12d750b8",
   "metadata": {},
   "outputs": [
    {
     "data": {
      "text/plain": [
       "'Hellowolrd'"
      ]
     },
     "execution_count": 67,
     "metadata": {},
     "output_type": "execute_result"
    }
   ],
   "source": [
    "a.capitalize() # 첫문자 대문자"
   ]
  },
  {
   "cell_type": "code",
   "execution_count": 68,
   "id": "427b1c8f",
   "metadata": {},
   "outputs": [
    {
     "data": {
      "text/plain": [
       "10"
      ]
     },
     "execution_count": 68,
     "metadata": {},
     "output_type": "execute_result"
    }
   ],
   "source": [
    "len(a) # 문자열 길이"
   ]
  },
  {
   "cell_type": "code",
   "execution_count": 69,
   "id": "c0c4db71",
   "metadata": {},
   "outputs": [
    {
     "data": {
      "text/plain": [
       "'HELLOWOLRD'"
      ]
     },
     "execution_count": 69,
     "metadata": {},
     "output_type": "execute_result"
    }
   ],
   "source": [
    "a.upper() # 대문자로"
   ]
  },
  {
   "cell_type": "code",
   "execution_count": 70,
   "id": "735dd378",
   "metadata": {},
   "outputs": [
    {
     "data": {
      "text/plain": [
       "'hellowolrd'"
      ]
     },
     "execution_count": 70,
     "metadata": {},
     "output_type": "execute_result"
    }
   ],
   "source": [
    "a.lower() #  소문자로"
   ]
  },
  {
   "cell_type": "code",
   "execution_count": 71,
   "id": "7730692e",
   "metadata": {},
   "outputs": [
    {
     "data": {
      "text/plain": [
       "3"
      ]
     },
     "execution_count": 71,
     "metadata": {},
     "output_type": "execute_result"
    }
   ],
   "source": [
    "a.count('l') # 해당문자의 개수 # 010-2516-9182"
   ]
  },
  {
   "cell_type": "code",
   "execution_count": 72,
   "id": "6b816862",
   "metadata": {},
   "outputs": [
    {
     "data": {
      "text/plain": [
       "5"
      ]
     },
     "execution_count": 72,
     "metadata": {},
     "output_type": "execute_result"
    }
   ],
   "source": [
    "a.find('W') # 해당문자의 위치"
   ]
  },
  {
   "cell_type": "code",
   "execution_count": 73,
   "id": "695fe15d",
   "metadata": {},
   "outputs": [
    {
     "data": {
      "text/plain": [
       "5"
      ]
     },
     "execution_count": 73,
     "metadata": {},
     "output_type": "execute_result"
    }
   ],
   "source": [
    "a.index('W') # 해당문자의 위치"
   ]
  },
  {
   "cell_type": "code",
   "execution_count": 74,
   "id": "fc439854",
   "metadata": {},
   "outputs": [
    {
     "data": {
      "text/plain": [
       "-1"
      ]
     },
     "execution_count": 74,
     "metadata": {},
     "output_type": "execute_result"
    }
   ],
   "source": [
    "a.find('z') # 없으면 -1"
   ]
  },
  {
   "cell_type": "code",
   "execution_count": 75,
   "id": "e16b9981",
   "metadata": {},
   "outputs": [
    {
     "ename": "ValueError",
     "evalue": "substring not found",
     "output_type": "error",
     "traceback": [
      "\u001b[1;31m---------------------------------------------------------------------------\u001b[0m",
      "\u001b[1;31mValueError\u001b[0m                                Traceback (most recent call last)",
      "Cell \u001b[1;32mIn[75], line 1\u001b[0m\n\u001b[1;32m----> 1\u001b[0m \u001b[43ma\u001b[49m\u001b[38;5;241;43m.\u001b[39;49m\u001b[43mindex\u001b[49m\u001b[43m(\u001b[49m\u001b[38;5;124;43m'\u001b[39;49m\u001b[38;5;124;43mz\u001b[39;49m\u001b[38;5;124;43m'\u001b[39;49m\u001b[43m)\u001b[49m \u001b[38;5;66;03m# 없으면 예외발생\u001b[39;00m\n",
      "\u001b[1;31mValueError\u001b[0m: substring not found"
     ]
    }
   ],
   "source": [
    "a.index('z') # 없으면 예외발생"
   ]
  },
  {
   "cell_type": "code",
   "execution_count": 76,
   "id": "02892889",
   "metadata": {},
   "outputs": [
    {
     "data": {
      "text/plain": [
       "True"
      ]
     },
     "execution_count": 76,
     "metadata": {},
     "output_type": "execute_result"
    }
   ],
   "source": [
    "num = '12345'\n",
    "num.isnumeric() # 숫자냐?"
   ]
  },
  {
   "cell_type": "code",
   "execution_count": 77,
   "id": "de015187",
   "metadata": {},
   "outputs": [
    {
     "data": {
      "text/plain": [
       "True"
      ]
     },
     "execution_count": 77,
     "metadata": {},
     "output_type": "execute_result"
    }
   ],
   "source": [
    "num.isdigit()  # 숫자냐?"
   ]
  },
  {
   "cell_type": "code",
   "execution_count": 78,
   "id": "ee19b191",
   "metadata": {},
   "outputs": [
    {
     "data": {
      "text/plain": [
       "True"
      ]
     },
     "execution_count": 78,
     "metadata": {},
     "output_type": "execute_result"
    }
   ],
   "source": [
    "num.isdecimal()  # 숫자냐?"
   ]
  },
  {
   "cell_type": "code",
   "execution_count": 79,
   "id": "efe75d3f",
   "metadata": {},
   "outputs": [
    {
     "data": {
      "text/plain": [
       "False"
      ]
     },
     "execution_count": 79,
     "metadata": {},
     "output_type": "execute_result"
    }
   ],
   "source": [
    "num = '3²'\n",
    "num.isdecimal() # isdecimal() 사용"
   ]
  },
  {
   "cell_type": "code",
   "execution_count": 80,
   "id": "55705039",
   "metadata": {},
   "outputs": [
    {
     "data": {
      "text/plain": [
       "True"
      ]
     },
     "execution_count": 80,
     "metadata": {},
     "output_type": "execute_result"
    }
   ],
   "source": [
    "num.isdigit()"
   ]
  },
  {
   "cell_type": "code",
   "execution_count": 81,
   "id": "3fba7456",
   "metadata": {},
   "outputs": [
    {
     "data": {
      "text/plain": [
       "True"
      ]
     },
     "execution_count": 81,
     "metadata": {},
     "output_type": "execute_result"
    }
   ],
   "source": [
    "alphabet = 'abcdef'\n",
    "alphabet.isalpha()  # 문자냐?"
   ]
  },
  {
   "cell_type": "code",
   "execution_count": 82,
   "id": "e21254b9",
   "metadata": {},
   "outputs": [
    {
     "data": {
      "text/plain": [
       "True"
      ]
     },
     "execution_count": 82,
     "metadata": {},
     "output_type": "execute_result"
    }
   ],
   "source": [
    "a = \"  \"\n",
    "a.isspace() # 빈공간이 있냐?"
   ]
  },
  {
   "cell_type": "code",
   "execution_count": 21,
   "id": "125dc7fe",
   "metadata": {},
   "outputs": [
    {
     "data": {
      "text/plain": [
       "b'abcdef'"
      ]
     },
     "execution_count": 21,
     "metadata": {},
     "output_type": "execute_result"
    }
   ],
   "source": [
    "a = 'abcdef'\n",
    "# print(type(a))\n",
    "b = a.encode() # byte array로 변환\n",
    "b\n",
    "# print(type(b))"
   ]
  },
  {
   "cell_type": "code",
   "execution_count": 87,
   "id": "b6bf1bc4",
   "metadata": {},
   "outputs": [
    {
     "data": {
      "text/plain": [
       "'abcdef'"
      ]
     },
     "execution_count": 87,
     "metadata": {},
     "output_type": "execute_result"
    }
   ],
   "source": [
    "a"
   ]
  },
  {
   "cell_type": "code",
   "execution_count": 88,
   "id": "f081bd5c",
   "metadata": {},
   "outputs": [
    {
     "data": {
      "text/plain": [
       "'abcdef'"
      ]
     },
     "execution_count": 88,
     "metadata": {},
     "output_type": "execute_result"
    }
   ],
   "source": [
    "c = b.decode() # string(unicode)로 변환\n",
    "c"
   ]
  },
  {
   "cell_type": "code",
   "execution_count": 23,
   "id": "01a03908",
   "metadata": {},
   "outputs": [],
   "source": [
    "a = '안녕 세계야'"
   ]
  },
  {
   "cell_type": "code",
   "execution_count": 24,
   "id": "9a4d59fc",
   "metadata": {},
   "outputs": [
    {
     "data": {
      "text/plain": [
       "6"
      ]
     },
     "execution_count": 24,
     "metadata": {},
     "output_type": "execute_result"
    }
   ],
   "source": [
    "len(a)"
   ]
  },
  {
   "cell_type": "code",
   "execution_count": 25,
   "id": "48da9a2c",
   "metadata": {},
   "outputs": [
    {
     "data": {
      "text/plain": [
       "b'\\xec\\x95\\x88\\xeb\\x85\\x95 \\xec\\x84\\xb8\\xea\\xb3\\x84\\xec\\x95\\xbc'"
      ]
     },
     "execution_count": 25,
     "metadata": {},
     "output_type": "execute_result"
    }
   ],
   "source": [
    "b = a.encode('utf-8') # 기본값인 utf-8로 변환\n",
    "b"
   ]
  },
  {
   "cell_type": "code",
   "execution_count": 26,
   "id": "2cd1ab81",
   "metadata": {},
   "outputs": [
    {
     "data": {
      "text/plain": [
       "16"
      ]
     },
     "execution_count": 26,
     "metadata": {},
     "output_type": "execute_result"
    }
   ],
   "source": [
    "len(b)"
   ]
  },
  {
   "cell_type": "code",
   "execution_count": 27,
   "id": "3c877f4e",
   "metadata": {},
   "outputs": [
    {
     "data": {
      "text/plain": [
       "'안녕 세계야'"
      ]
     },
     "execution_count": 27,
     "metadata": {},
     "output_type": "execute_result"
    }
   ],
   "source": [
    "c = b.decode()\n",
    "c"
   ]
  },
  {
   "cell_type": "code",
   "execution_count": 28,
   "id": "5ce20228",
   "metadata": {},
   "outputs": [
    {
     "data": {
      "text/plain": [
       "b'\\xbe\\xc8\\xb3\\xe7 \\xbc\\xbc\\xb0\\xe8\\xbe\\xdf'"
      ]
     },
     "execution_count": 28,
     "metadata": {},
     "output_type": "execute_result"
    }
   ],
   "source": [
    "b = a.encode('cp949') # Codepage 949 한글\n",
    "b"
   ]
  },
  {
   "cell_type": "code",
   "execution_count": 29,
   "id": "0f9c9062",
   "metadata": {},
   "outputs": [
    {
     "data": {
      "text/plain": [
       "11"
      ]
     },
     "execution_count": 29,
     "metadata": {},
     "output_type": "execute_result"
    }
   ],
   "source": [
    "len(b)"
   ]
  },
  {
   "cell_type": "code",
   "execution_count": 30,
   "id": "6548422c-225e-43b6-ab45-30bef6ab59f6",
   "metadata": {},
   "outputs": [
    {
     "ename": "UnicodeDecodeError",
     "evalue": "'utf-8' codec can't decode byte 0xbe in position 0: invalid start byte",
     "output_type": "error",
     "traceback": [
      "\u001b[1;31m---------------------------------------------------------------------------\u001b[0m",
      "\u001b[1;31mUnicodeDecodeError\u001b[0m                        Traceback (most recent call last)",
      "Cell \u001b[1;32mIn[30], line 1\u001b[0m\n\u001b[1;32m----> 1\u001b[0m c \u001b[38;5;241m=\u001b[39m \u001b[43mb\u001b[49m\u001b[38;5;241;43m.\u001b[39;49m\u001b[43mdecode\u001b[49m\u001b[43m(\u001b[49m\u001b[43m)\u001b[49m\n\u001b[0;32m      2\u001b[0m c\n",
      "\u001b[1;31mUnicodeDecodeError\u001b[0m: 'utf-8' codec can't decode byte 0xbe in position 0: invalid start byte"
     ]
    }
   ],
   "source": [
    "c = b.decode()\n",
    "c"
   ]
  },
  {
   "cell_type": "code",
   "execution_count": 99,
   "id": "a6780b80",
   "metadata": {},
   "outputs": [
    {
     "data": {
      "text/plain": [
       "'안녕 세계야'"
      ]
     },
     "execution_count": 99,
     "metadata": {},
     "output_type": "execute_result"
    }
   ],
   "source": [
    "c = b.decode('cp949') # 예외 발생, 기본값이 'UTF-8'로 디코딩\n",
    "c"
   ]
  },
  {
   "cell_type": "code",
   "execution_count": 32,
   "id": "e7b76d30",
   "metadata": {},
   "outputs": [
    {
     "data": {
      "text/plain": [
       "'dog,cat,tiger,lion'"
      ]
     },
     "execution_count": 32,
     "metadata": {},
     "output_type": "execute_result"
    }
   ],
   "source": [
    "animals = ['dog', 'cat', 'tiger', 'lion']\n",
    "a = ','.join(animals) # 문자열 엮기\n",
    "a"
   ]
  },
  {
   "cell_type": "code",
   "execution_count": 104,
   "id": "db051d8e",
   "metadata": {},
   "outputs": [
    {
     "data": {
      "text/plain": [
       "['dog', 'cat', 'tiger', 'lion']"
      ]
     },
     "execution_count": 104,
     "metadata": {},
     "output_type": "execute_result"
    }
   ],
   "source": [
    "b = a.split(',') # \",\"로 구분하여 리스트 생성\n",
    "b"
   ]
  },
  {
   "cell_type": "code",
   "execution_count": 107,
   "id": "fe5531d3",
   "metadata": {},
   "outputs": [
    {
     "data": {
      "text/plain": [
       "'010-2222-1111'"
      ]
     },
     "execution_count": 107,
     "metadata": {},
     "output_type": "execute_result"
    }
   ],
   "source": [
    "phone = ' 010-2222-1111 '\n",
    "phone.strip() # 앞/뒤 빈공간 잘라내기"
   ]
  },
  {
   "cell_type": "code",
   "execution_count": 33,
   "id": "ece63917-0c1e-4b3c-9b47-3d1be883ec0f",
   "metadata": {},
   "outputs": [
    {
     "data": {
      "text/plain": [
       "'010 - 2222 - 1111'"
      ]
     },
     "execution_count": 33,
     "metadata": {},
     "output_type": "execute_result"
    }
   ],
   "source": [
    "phone = ' 010 - 2222 - 1111 '\n",
    "phone.strip() # 앞/뒤 빈공간 잘라내기"
   ]
  },
  {
   "cell_type": "code",
   "execution_count": 108,
   "id": "66849cc4",
   "metadata": {},
   "outputs": [
    {
     "data": {
      "text/plain": [
       "'010-2222-1111 '"
      ]
     },
     "execution_count": 108,
     "metadata": {},
     "output_type": "execute_result"
    }
   ],
   "source": [
    "phone = ' 010-2222-1111 '\n",
    "phone.lstrip() # 왼쪽공백 제거"
   ]
  },
  {
   "cell_type": "code",
   "execution_count": 114,
   "id": "53af4523",
   "metadata": {},
   "outputs": [
    {
     "data": {
      "text/plain": [
       "' 010-2222-1111'"
      ]
     },
     "execution_count": 114,
     "metadata": {},
     "output_type": "execute_result"
    }
   ],
   "source": [
    "phone = ' 010-2222-1111 '\n",
    "phone.rstrip() # 오른쪽 공백 제거"
   ]
  },
  {
   "cell_type": "code",
   "execution_count": 34,
   "id": "1d96ec13",
   "metadata": {},
   "outputs": [
    {
     "data": {
      "text/plain": [
       "'011-0102-92191'"
      ]
     },
     "execution_count": 34,
     "metadata": {},
     "output_type": "execute_result"
    }
   ],
   "source": [
    "a = '  011 - 0102 - 92191 '\n",
    "a = a.replace(' ', '')\n",
    "a"
   ]
  },
  {
   "cell_type": "code",
   "execution_count": 110,
   "id": "3894fb9b",
   "metadata": {},
   "outputs": [
    {
     "data": {
      "text/plain": [
       "' 011-2222-1111 '"
      ]
     },
     "execution_count": 110,
     "metadata": {},
     "output_type": "execute_result"
    }
   ],
   "source": [
    "phone.replace('010', '011') # 문자열 변환"
   ]
  },
  {
   "cell_type": "code",
   "execution_count": 115,
   "id": "a34af7c6",
   "metadata": {},
   "outputs": [
    {
     "data": {
      "text/plain": [
       "'01022221111'"
      ]
     },
     "execution_count": 115,
     "metadata": {},
     "output_type": "execute_result"
    }
   ],
   "source": [
    "phone.replace('-', '').strip()"
   ]
  },
  {
   "cell_type": "code",
   "execution_count": null,
   "id": "16efab0c",
   "metadata": {},
   "outputs": [],
   "source": [
    "temp = phone.replace('-', '')\n",
    "temp.strip()"
   ]
  },
  {
   "cell_type": "markdown",
   "id": "b505dd35",
   "metadata": {},
   "source": [
    "### List"
   ]
  },
  {
   "cell_type": "code",
   "execution_count": 2,
   "id": "b432cb3f",
   "metadata": {},
   "outputs": [
    {
     "data": {
      "text/plain": [
       "[5, 3, 1, 2, 4]"
      ]
     },
     "execution_count": 2,
     "metadata": {},
     "output_type": "execute_result"
    }
   ],
   "source": [
    "list1 = [5,3,1,2,4]\n",
    "list1"
   ]
  },
  {
   "cell_type": "code",
   "execution_count": 3,
   "id": "ec4ae0f2",
   "metadata": {},
   "outputs": [
    {
     "data": {
      "text/plain": [
       "['a']"
      ]
     },
     "execution_count": 3,
     "metadata": {},
     "output_type": "execute_result"
    }
   ],
   "source": [
    "list_ = []\n",
    "list_ = list()\n",
    "\n",
    "list_.append('a')\n",
    "list_"
   ]
  },
  {
   "cell_type": "code",
   "execution_count": 38,
   "id": "52654a9d",
   "metadata": {},
   "outputs": [
    {
     "data": {
      "text/plain": [
       "['a', 'b', 'c', 'd', 'e']"
      ]
     },
     "execution_count": 38,
     "metadata": {},
     "output_type": "execute_result"
    }
   ],
   "source": [
    "list2 = ['a', 'b', 'c', 'd', 'e']\n",
    "list2"
   ]
  },
  {
   "cell_type": "code",
   "execution_count": 5,
   "id": "cf3739c6",
   "metadata": {},
   "outputs": [
    {
     "data": {
      "text/plain": [
       "[1, 'a', 2, 'b', 3]"
      ]
     },
     "execution_count": 5,
     "metadata": {},
     "output_type": "execute_result"
    }
   ],
   "source": [
    "list3 = [1, 'a', 2, 'b', 3] # 혼합 리스트\n",
    "list3"
   ]
  },
  {
   "cell_type": "code",
   "execution_count": 6,
   "id": "9074a940",
   "metadata": {},
   "outputs": [
    {
     "data": {
      "text/plain": [
       "2"
      ]
     },
     "execution_count": 6,
     "metadata": {},
     "output_type": "execute_result"
    }
   ],
   "source": [
    "list3[2] # Indexing"
   ]
  },
  {
   "cell_type": "code",
   "execution_count": 7,
   "id": "01a91f37",
   "metadata": {},
   "outputs": [
    {
     "data": {
      "text/plain": [
       "['a', 2, 'b']"
      ]
     },
     "execution_count": 7,
     "metadata": {},
     "output_type": "execute_result"
    }
   ],
   "source": [
    "list3[1:4] # Slicing"
   ]
  },
  {
   "cell_type": "code",
   "execution_count": 9,
   "id": "226f5ebd",
   "metadata": {},
   "outputs": [
    {
     "data": {
      "text/plain": [
       "[9, 'a', 2, 'b', 3]"
      ]
     },
     "execution_count": 9,
     "metadata": {},
     "output_type": "execute_result"
    }
   ],
   "source": [
    "list3[0] = 9\n",
    "list3"
   ]
  },
  {
   "cell_type": "code",
   "execution_count": 37,
   "id": "6cffdb2f",
   "metadata": {},
   "outputs": [
    {
     "ename": "NameError",
     "evalue": "name 'list1' is not defined",
     "output_type": "error",
     "traceback": [
      "\u001b[1;31m---------------------------------------------------------------------------\u001b[0m",
      "\u001b[1;31mNameError\u001b[0m                                 Traceback (most recent call last)",
      "Cell \u001b[1;32mIn[37], line 1\u001b[0m\n\u001b[1;32m----> 1\u001b[0m \u001b[43mlist1\u001b[49m\n",
      "\u001b[1;31mNameError\u001b[0m: name 'list1' is not defined"
     ]
    }
   ],
   "source": [
    "list1"
   ]
  },
  {
   "cell_type": "code",
   "execution_count": 10,
   "id": "83d0bf98",
   "metadata": {},
   "outputs": [
    {
     "data": {
      "text/plain": [
       "[5, 3, 1, 2, 4]"
      ]
     },
     "execution_count": 10,
     "metadata": {},
     "output_type": "execute_result"
    }
   ],
   "source": [
    "list3 = []\n",
    "list3 += list1\n",
    "list3"
   ]
  },
  {
   "cell_type": "code",
   "execution_count": 13,
   "id": "363ca077",
   "metadata": {},
   "outputs": [
    {
     "data": {
      "text/plain": [
       "['a', 'b', 'c', 'd', 'e']"
      ]
     },
     "execution_count": 13,
     "metadata": {},
     "output_type": "execute_result"
    }
   ],
   "source": [
    "list2"
   ]
  },
  {
   "cell_type": "code",
   "execution_count": 12,
   "id": "8a96608b",
   "metadata": {},
   "outputs": [
    {
     "data": {
      "text/plain": [
       "[5, 3, 1, 2, 4, 'a', 'b', 'c', 'd', 'e']"
      ]
     },
     "execution_count": 12,
     "metadata": {},
     "output_type": "execute_result"
    }
   ],
   "source": [
    "list4 = list1 + list2 # 리스트 합치기\n",
    "list4"
   ]
  },
  {
   "cell_type": "code",
   "execution_count": 40,
   "id": "5ee866f2",
   "metadata": {},
   "outputs": [
    {
     "name": "stdout",
     "output_type": "stream",
     "text": [
      "a\n",
      "0\n",
      "\n",
      "b\n",
      "1\n",
      "\n",
      "c\n",
      "2\n",
      "\n",
      "d\n",
      "3\n",
      "\n",
      "e\n",
      "4\n",
      "\n"
     ]
    }
   ],
   "source": [
    "index = 0 \n",
    "for elem in list2:\n",
    "    print(elem)\n",
    "    print(index)\n",
    "    index +=1 \n",
    "    print()"
   ]
  },
  {
   "cell_type": "code",
   "execution_count": 15,
   "id": "b4f7f1df",
   "metadata": {},
   "outputs": [
    {
     "name": "stdout",
     "output_type": "stream",
     "text": [
      "0\n",
      "5\n",
      "--------\n",
      "1\n",
      "3\n",
      "--------\n",
      "2\n",
      "1\n",
      "--------\n",
      "3\n",
      "2\n",
      "--------\n",
      "4\n",
      "4\n",
      "--------\n",
      "5\n",
      "a\n",
      "--------\n",
      "6\n",
      "b\n",
      "--------\n",
      "7\n",
      "c\n",
      "--------\n",
      "8\n",
      "d\n",
      "--------\n",
      "9\n",
      "e\n",
      "--------\n"
     ]
    }
   ],
   "source": [
    "for index, elem in enumerate(list2):\n",
    "    print(index)\n",
    "    print(elem)\n",
    "    print('--------')"
   ]
  },
  {
   "cell_type": "code",
   "execution_count": 17,
   "id": "e897294a",
   "metadata": {},
   "outputs": [
    {
     "name": "stdout",
     "output_type": "stream",
     "text": [
      "(0, 5)\n",
      "0\n",
      "5\n",
      "(1, 3)\n",
      "1\n",
      "3\n",
      "(2, 1)\n",
      "2\n",
      "1\n",
      "(3, 2)\n",
      "3\n",
      "2\n",
      "(4, 4)\n",
      "4\n",
      "4\n",
      "(5, 'a')\n",
      "5\n",
      "a\n",
      "(6, 'b')\n",
      "6\n",
      "b\n",
      "(7, 'c')\n",
      "7\n",
      "c\n",
      "(8, 'd')\n",
      "8\n",
      "d\n",
      "(9, 'e')\n",
      "9\n",
      "e\n"
     ]
    }
   ],
   "source": [
    "for data in enumerate(list4):\n",
    "    print(data)\n",
    "    print(data[0])\n",
    "    print(data[1])"
   ]
  },
  {
   "cell_type": "code",
   "execution_count": 18,
   "id": "b24e7c1d",
   "metadata": {},
   "outputs": [
    {
     "data": {
      "text/plain": [
       "['a', 'b', 'c', 'd', 'e']"
      ]
     },
     "execution_count": 18,
     "metadata": {},
     "output_type": "execute_result"
    }
   ],
   "source": [
    "list2"
   ]
  },
  {
   "cell_type": "code",
   "execution_count": 20,
   "id": "61b1c977",
   "metadata": {},
   "outputs": [
    {
     "data": {
      "text/plain": [
       "['a', 'b', 'c', 'd', 'e']"
      ]
     },
     "execution_count": 20,
     "metadata": {},
     "output_type": "execute_result"
    }
   ],
   "source": [
    "list5 = list2\n",
    "list5"
   ]
  },
  {
   "cell_type": "code",
   "execution_count": 19,
   "id": "6f7f6243",
   "metadata": {},
   "outputs": [
    {
     "data": {
      "text/plain": [
       "['a', 'b', 'c', 'd', 'e', 'f']"
      ]
     },
     "execution_count": 19,
     "metadata": {},
     "output_type": "execute_result"
    }
   ],
   "source": [
    "list5 = list2.copy() # append\n",
    "list5.append('f')\n",
    "list5"
   ]
  },
  {
   "cell_type": "code",
   "execution_count": 21,
   "id": "d1c0ae6e",
   "metadata": {},
   "outputs": [
    {
     "data": {
      "text/plain": [
       "['a', 'b', 'c', 'd', 'e', 'f']"
      ]
     },
     "execution_count": 21,
     "metadata": {},
     "output_type": "execute_result"
    }
   ],
   "source": [
    "list5 = list2.copy() # extend\n",
    "list5.extend('f')\n",
    "list5"
   ]
  },
  {
   "cell_type": "code",
   "execution_count": 22,
   "id": "fae229ee",
   "metadata": {},
   "outputs": [
    {
     "data": {
      "text/plain": [
       "['a', 'b', 'c', 'd', 'e', [5, 3, 1, 2, 4]]"
      ]
     },
     "execution_count": 22,
     "metadata": {},
     "output_type": "execute_result"
    }
   ],
   "source": [
    "list5 = list2.copy() # extend와 append의 차이\n",
    "list5.append(list1)\n",
    "list5"
   ]
  },
  {
   "cell_type": "code",
   "execution_count": 23,
   "id": "5d9646fd",
   "metadata": {},
   "outputs": [
    {
     "data": {
      "text/plain": [
       "6"
      ]
     },
     "execution_count": 23,
     "metadata": {},
     "output_type": "execute_result"
    }
   ],
   "source": [
    "len(list5)"
   ]
  },
  {
   "cell_type": "code",
   "execution_count": 24,
   "id": "94304e56",
   "metadata": {},
   "outputs": [
    {
     "data": {
      "text/plain": [
       "['a', 'b', 'c', 'd', 'e', 5, 3, 1, 2, 4]"
      ]
     },
     "execution_count": 24,
     "metadata": {},
     "output_type": "execute_result"
    }
   ],
   "source": [
    "list5 = list2.copy()\n",
    "list5.extend(list1)\n",
    "list5"
   ]
  },
  {
   "cell_type": "code",
   "execution_count": 25,
   "id": "6dcda7d8",
   "metadata": {},
   "outputs": [
    {
     "data": {
      "text/plain": [
       "10"
      ]
     },
     "execution_count": 25,
     "metadata": {},
     "output_type": "execute_result"
    }
   ],
   "source": [
    "len(list5)"
   ]
  },
  {
   "cell_type": "code",
   "execution_count": 26,
   "id": "be6e2c80",
   "metadata": {},
   "outputs": [
    {
     "data": {
      "text/plain": [
       "10"
      ]
     },
     "execution_count": 26,
     "metadata": {},
     "output_type": "execute_result"
    }
   ],
   "source": [
    "len(list4) # list 길이"
   ]
  },
  {
   "cell_type": "code",
   "execution_count": 27,
   "id": "bca42568",
   "metadata": {},
   "outputs": [
    {
     "data": {
      "text/plain": [
       "[5, 3, 1, 2, 4, 5, 3, 1, 2, 4, 5, 3, 1, 2, 4]"
      ]
     },
     "execution_count": 27,
     "metadata": {},
     "output_type": "execute_result"
    }
   ],
   "source": [
    "list1 * 3"
   ]
  },
  {
   "cell_type": "code",
   "execution_count": 28,
   "id": "1723fbf6",
   "metadata": {},
   "outputs": [
    {
     "ename": "TypeError",
     "evalue": "can't multiply sequence by non-int of type 'list'",
     "output_type": "error",
     "traceback": [
      "\u001b[1;31m---------------------------------------------------------------------------\u001b[0m",
      "\u001b[1;31mTypeError\u001b[0m                                 Traceback (most recent call last)",
      "Cell \u001b[1;32mIn[28], line 1\u001b[0m\n\u001b[1;32m----> 1\u001b[0m \u001b[43mlist1\u001b[49m\u001b[43m \u001b[49m\u001b[38;5;241;43m*\u001b[39;49m\u001b[43m \u001b[49m\u001b[43mlist2\u001b[49m\n",
      "\u001b[1;31mTypeError\u001b[0m: can't multiply sequence by non-int of type 'list'"
     ]
    }
   ],
   "source": [
    "list1 * list2"
   ]
  },
  {
   "cell_type": "code",
   "execution_count": 31,
   "id": "672072ac",
   "metadata": {},
   "outputs": [],
   "source": [
    "list2 = ['a', 'b', 'c', 'c', 'd', 'c']"
   ]
  },
  {
   "cell_type": "code",
   "execution_count": 32,
   "id": "ccba232c",
   "metadata": {},
   "outputs": [
    {
     "name": "stdout",
     "output_type": "stream",
     "text": [
      "None\n"
     ]
    },
    {
     "data": {
      "text/plain": [
       "['a', 'b', 'c', 'd', 'c']"
      ]
     },
     "execution_count": 32,
     "metadata": {},
     "output_type": "execute_result"
    }
   ],
   "source": [
    "list5 = list2.copy()\n",
    "ret = list5.remove('c')  # remove\n",
    "print(ret)\n",
    "list5"
   ]
  },
  {
   "cell_type": "code",
   "execution_count": 33,
   "id": "bfb2f21c",
   "metadata": {},
   "outputs": [
    {
     "name": "stdout",
     "output_type": "stream",
     "text": [
      "c\n"
     ]
    },
    {
     "data": {
      "text/plain": [
       "['a', 'b', 'c', 'd', 'c']"
      ]
     },
     "execution_count": 33,
     "metadata": {},
     "output_type": "execute_result"
    }
   ],
   "source": [
    "list5 = list2.copy()\n",
    "ret = list5.pop(2) # pop\n",
    "print(ret)\n",
    "list5"
   ]
  },
  {
   "cell_type": "code",
   "execution_count": 34,
   "id": "702cf6ce",
   "metadata": {},
   "outputs": [
    {
     "data": {
      "text/plain": [
       "[5, 3, 1, 2, 4]"
      ]
     },
     "execution_count": 34,
     "metadata": {},
     "output_type": "execute_result"
    }
   ],
   "source": [
    "list1"
   ]
  },
  {
   "cell_type": "code",
   "execution_count": 38,
   "id": "21beecbd",
   "metadata": {},
   "outputs": [
    {
     "name": "stdout",
     "output_type": "stream",
     "text": [
      "None\n"
     ]
    },
    {
     "data": {
      "text/plain": [
       "[5, 4, 3, 2, 1]"
      ]
     },
     "execution_count": 38,
     "metadata": {},
     "output_type": "execute_result"
    }
   ],
   "source": [
    "list5 = list1.copy()\n",
    "ret = list5.sort(reverse=True)\n",
    "# ret = list5.sort(reverse=False) # 기본값\n",
    "print(ret)\n",
    "list5"
   ]
  },
  {
   "cell_type": "code",
   "execution_count": 39,
   "id": "2a59d879",
   "metadata": {},
   "outputs": [
    {
     "name": "stdout",
     "output_type": "stream",
     "text": [
      "result: [1, 2, 3, 4, 5]\n",
      "origin: [5, 3, 1, 2, 4]\n"
     ]
    }
   ],
   "source": [
    "list5 = list1.copy()\n",
    "ret = sorted(list5, reverse=False)\n",
    "print('result:', ret)\n",
    "print('origin:', list5)"
   ]
  },
  {
   "cell_type": "code",
   "execution_count": 40,
   "id": "be45af8e",
   "metadata": {},
   "outputs": [
    {
     "name": "stdout",
     "output_type": "stream",
     "text": [
      "None\n"
     ]
    },
    {
     "data": {
      "text/plain": [
       "[4, 2, 1, 3, 5]"
      ]
     },
     "execution_count": 40,
     "metadata": {},
     "output_type": "execute_result"
    }
   ],
   "source": [
    "list5 = list1.copy()\n",
    "ret = list5.reverse()\n",
    "print(ret)\n",
    "list5"
   ]
  },
  {
   "cell_type": "code",
   "execution_count": 41,
   "id": "7fdbaf58",
   "metadata": {},
   "outputs": [
    {
     "name": "stdout",
     "output_type": "stream",
     "text": [
      "<list_reverseiterator object at 0x000001B3CCF49A00>\n",
      "[4, 2, 1, 3, 5]\n"
     ]
    },
    {
     "data": {
      "text/plain": [
       "[5, 3, 1, 2, 4]"
      ]
     },
     "execution_count": 41,
     "metadata": {},
     "output_type": "execute_result"
    }
   ],
   "source": [
    "list5 = list1.copy()\n",
    "ret = reversed(list5)\n",
    "print(ret)\n",
    "print(list(ret))\n",
    "list5"
   ]
  },
  {
   "cell_type": "code",
   "execution_count": 42,
   "id": "57ba064f",
   "metadata": {},
   "outputs": [
    {
     "data": {
      "text/plain": [
       "[]"
      ]
     },
     "execution_count": 42,
     "metadata": {},
     "output_type": "execute_result"
    }
   ],
   "source": [
    "list5.clear() # list5 = []\n",
    "list5 = []\n",
    "list5"
   ]
  },
  {
   "cell_type": "code",
   "execution_count": 43,
   "id": "e4079194",
   "metadata": {},
   "outputs": [
    {
     "name": "stdout",
     "output_type": "stream",
     "text": [
      "[1, 2, 2, 3, 3, 4, 4, 5, 7, 8, 9]\n",
      "[1, 2, 3, 4, 5, 7, 8, 9]\n"
     ]
    }
   ],
   "source": [
    "list6 = [1,3,2,5,7,4,3,8,9,4,2]\n",
    "print(sorted(list6))\n",
    "print(sorted(set(list6)))"
   ]
  },
  {
   "cell_type": "code",
   "execution_count": 44,
   "id": "8b26e1b3",
   "metadata": {},
   "outputs": [
    {
     "name": "stdout",
     "output_type": "stream",
     "text": [
      "Index:0 Pat:dog\n",
      "Index:1 Pat:cat\n",
      "Index:2 Pat:bird\n",
      "Index:3 Pat:fish\n"
     ]
    }
   ],
   "source": [
    "pats = ['dog', 'cat', 'bird', 'fish']\n",
    "\n",
    "for index, pat in enumerate(pats): # Unpacking (index, pat)\n",
    "    \n",
    "    print(f'Index:{index} Pat:{pat}')"
   ]
  },
  {
   "cell_type": "code",
   "execution_count": 45,
   "id": "e64878eb",
   "metadata": {},
   "outputs": [
    {
     "name": "stdout",
     "output_type": "stream",
     "text": [
      "dog 0\n",
      "cat 1\n",
      "bird 2\n",
      "fish 3\n"
     ]
    }
   ],
   "source": [
    "index = 0\n",
    "for pat in pats:\n",
    "    print(pat, index)\n",
    "    index += 1"
   ]
  },
  {
   "cell_type": "code",
   "execution_count": 51,
   "id": "a3b8f165",
   "metadata": {},
   "outputs": [
    {
     "name": "stdout",
     "output_type": "stream",
     "text": [
      "<zip object at 0x000001B3CDAADF40>\n"
     ]
    }
   ],
   "source": [
    "pats = ['dog', 'cat', 'bird', 'fish']\n",
    "owner = ['Andy', 'Elias', 'Jordan', 'Tony']\n",
    "\n",
    "print(zip(pats, owner))"
   ]
  },
  {
   "cell_type": "code",
   "execution_count": 52,
   "id": "bf2c290f",
   "metadata": {},
   "outputs": [
    {
     "name": "stdout",
     "output_type": "stream",
     "text": [
      "(('dog', 'Andy'), ('cat', 'Elias'), ('bird', 'Jordan'), ('fish', 'Tony'))\n",
      "[('dog', 'Andy'), ('cat', 'Elias'), ('bird', 'Jordan'), ('fish', 'Tony')]\n",
      "{'dog': 'Andy', 'cat': 'Elias', 'bird': 'Jordan', 'fish': 'Tony'}\n",
      "Pat: dog, Owner: Andy\n",
      "Pat: cat, Owner: Elias\n",
      "Pat: bird, Owner: Jordan\n",
      "Pat: fish, Owner: Tony\n"
     ]
    }
   ],
   "source": [
    "pats = ['dog', 'cat', 'bird', 'fish']\n",
    "owner = ['Andy', 'Elias', 'Jordan', 'Tony']\n",
    "\n",
    "print(tuple(zip(pats, owner)))\n",
    "print(list(zip(pats, owner)))\n",
    "print(dict(zip(pats, owner)))\n",
    "\n",
    "for pat, owner in zip(pats, owner): #  unpacking (pat, owner)\n",
    "    print(f'Pat: {pat}, Owner: {owner}')"
   ]
  },
  {
   "cell_type": "markdown",
   "id": "427e3897",
   "metadata": {},
   "source": [
    "### Tuple"
   ]
  },
  {
   "cell_type": "code",
   "execution_count": 53,
   "id": "e14c87ea",
   "metadata": {},
   "outputs": [
    {
     "data": {
      "text/plain": [
       "(5, 3, 1, 2, 4)"
      ]
     },
     "execution_count": 53,
     "metadata": {},
     "output_type": "execute_result"
    }
   ],
   "source": [
    "tuple1 = (5,3,1,2,4)\n",
    "tuple1"
   ]
  },
  {
   "cell_type": "code",
   "execution_count": 54,
   "id": "6b05e01a",
   "metadata": {},
   "outputs": [
    {
     "ename": "TypeError",
     "evalue": "'tuple' object does not support item assignment",
     "output_type": "error",
     "traceback": [
      "\u001b[1;31m---------------------------------------------------------------------------\u001b[0m",
      "\u001b[1;31mTypeError\u001b[0m                                 Traceback (most recent call last)",
      "Cell \u001b[1;32mIn[54], line 1\u001b[0m\n\u001b[1;32m----> 1\u001b[0m \u001b[43mtuple1\u001b[49m\u001b[43m[\u001b[49m\u001b[38;5;241;43m1\u001b[39;49m\u001b[43m]\u001b[49m \u001b[38;5;241m=\u001b[39m \u001b[38;5;241m7\u001b[39m\n",
      "\u001b[1;31mTypeError\u001b[0m: 'tuple' object does not support item assignment"
     ]
    }
   ],
   "source": [
    "tuple1[1] = 7"
   ]
  },
  {
   "cell_type": "code",
   "execution_count": 55,
   "id": "2aefd6cb",
   "metadata": {},
   "outputs": [
    {
     "data": {
      "text/plain": [
       "(5, 3, 1, 2, 4, 'a', 'b', 'c', 'd', 'e')"
      ]
     },
     "execution_count": 55,
     "metadata": {},
     "output_type": "execute_result"
    }
   ],
   "source": [
    "tuple2 = ('a', 'b', 'c', 'd', 'e')\n",
    "tuple3 = tuple1 + tuple2\n",
    "tuple3"
   ]
  },
  {
   "cell_type": "code",
   "execution_count": 56,
   "id": "46ccf18f",
   "metadata": {},
   "outputs": [
    {
     "data": {
      "text/plain": [
       "10"
      ]
     },
     "execution_count": 56,
     "metadata": {},
     "output_type": "execute_result"
    }
   ],
   "source": [
    "len(tuple3)"
   ]
  },
  {
   "cell_type": "markdown",
   "id": "ad496e52",
   "metadata": {},
   "source": [
    "### Dictionary"
   ]
  },
  {
   "cell_type": "code",
   "execution_count": null,
   "id": "970d154d",
   "metadata": {},
   "outputs": [],
   "source": [
    "# Creating an empty Dictionary  \n",
    "Dict = {}\n",
    "Dict = dict()\n",
    "print(Dict)  \n",
    " \n",
    "# with Integer Keys  \n",
    "Dict = {1: 'Geeks', 2: 'For', 3: 'Geeks'}\n",
    "print(Dict)  \n",
    " \n",
    "# with Mixed keys  \n",
    "Dict = {'Name': 'Geeks', 1: [1, 2, 3, 4]}\n",
    "print(Dict) "
   ]
  },
  {
   "cell_type": "markdown",
   "id": "4b675ae5",
   "metadata": {},
   "source": [
    "<img src=\"https://media.geeksforgeeks.org/wp-content/uploads/20191224155528/Dictionary-Creation-11.jpg\" width=500>"
   ]
  },
  {
   "cell_type": "code",
   "execution_count": 57,
   "id": "b0c15ecb",
   "metadata": {},
   "outputs": [
    {
     "data": {
      "text/plain": [
       "{'name': 'Elias Kim'}"
      ]
     },
     "execution_count": 57,
     "metadata": {},
     "output_type": "execute_result"
    }
   ],
   "source": [
    "dic = {}\n",
    "dic = dict()\n",
    "\n",
    "dic['name'] = 'Elias Kim'\n",
    "dic"
   ]
  },
  {
   "cell_type": "code",
   "execution_count": 58,
   "id": "085b621b",
   "metadata": {},
   "outputs": [
    {
     "data": {
      "text/plain": [
       "{'name': 'Elias Kim', 'age': 22, 'location': 'Seoul'}"
      ]
     },
     "execution_count": 58,
     "metadata": {},
     "output_type": "execute_result"
    }
   ],
   "source": [
    "dic = {'name':'Elias Kim', 'age':22, 'location':'Seoul'} # 초기화\n",
    "dic"
   ]
  },
  {
   "cell_type": "code",
   "execution_count": 59,
   "id": "a579ecab",
   "metadata": {},
   "outputs": [
    {
     "data": {
      "text/plain": [
       "'Elias Kim'"
      ]
     },
     "execution_count": 59,
     "metadata": {},
     "output_type": "execute_result"
    }
   ],
   "source": [
    "dic['name'] # 데이터 접근"
   ]
  },
  {
   "cell_type": "code",
   "execution_count": 60,
   "id": "980cc866",
   "metadata": {},
   "outputs": [
    {
     "data": {
      "text/plain": [
       "{'name': 'Elias Kim', 'age': 20, 'location': 'Seoul'}"
      ]
     },
     "execution_count": 60,
     "metadata": {},
     "output_type": "execute_result"
    }
   ],
   "source": [
    "dic['age'] = 20 # 업데이트\n",
    "dic"
   ]
  },
  {
   "cell_type": "code",
   "execution_count": 61,
   "id": "00f43ddc",
   "metadata": {},
   "outputs": [
    {
     "data": {
      "text/plain": [
       "{'name': 'Elias Kim',\n",
       " 'age': 20,\n",
       " 'location': 'Seoul',\n",
       " 'company': 'LG Electronics'}"
      ]
     },
     "execution_count": 61,
     "metadata": {},
     "output_type": "execute_result"
    }
   ],
   "source": [
    "dic['company'] = 'LG Electronics' # 추가\n",
    "dic"
   ]
  },
  {
   "cell_type": "code",
   "execution_count": 62,
   "id": "ab7e4d7e",
   "metadata": {},
   "outputs": [
    {
     "data": {
      "text/plain": [
       "{'name': 'Elias Kim', 'age': 20, 'location': 'Seoul'}"
      ]
     },
     "execution_count": 62,
     "metadata": {},
     "output_type": "execute_result"
    }
   ],
   "source": [
    "del dic['company'] # 삭제\n",
    "dic"
   ]
  },
  {
   "cell_type": "code",
   "execution_count": 63,
   "id": "6292696e",
   "metadata": {},
   "outputs": [
    {
     "data": {
      "text/plain": [
       "3"
      ]
     },
     "execution_count": 63,
     "metadata": {},
     "output_type": "execute_result"
    }
   ],
   "source": [
    "len(dic) # 길이"
   ]
  },
  {
   "cell_type": "code",
   "execution_count": 64,
   "id": "cdadd664",
   "metadata": {},
   "outputs": [
    {
     "data": {
      "text/plain": [
       "{}"
      ]
     },
     "execution_count": 64,
     "metadata": {},
     "output_type": "execute_result"
    }
   ],
   "source": [
    "dic2 = dic.copy()\n",
    "dic2.clear()          # 모두삭제\n",
    "dic2 = {}\n",
    "dic2"
   ]
  },
  {
   "cell_type": "code",
   "execution_count": 65,
   "id": "701a00a7",
   "metadata": {},
   "outputs": [
    {
     "name": "stdout",
     "output_type": "stream",
     "text": [
      "Elias Kim\n",
      "20\n",
      "Seoul\n"
     ]
    }
   ],
   "source": [
    "for value in dic.values(): # value 가져오기\n",
    "    print(value)"
   ]
  },
  {
   "cell_type": "code",
   "execution_count": 66,
   "id": "1cf24fcf",
   "metadata": {},
   "outputs": [
    {
     "name": "stdout",
     "output_type": "stream",
     "text": [
      "name\n",
      "age\n",
      "location\n"
     ]
    }
   ],
   "source": [
    "for key in dic.keys(): # key 가져오기\n",
    "    print(key)"
   ]
  },
  {
   "cell_type": "code",
   "execution_count": 68,
   "id": "dcfd0789",
   "metadata": {},
   "outputs": [
    {
     "name": "stdout",
     "output_type": "stream",
     "text": [
      "name\n",
      "Elias Kim\n",
      "----------\n",
      "age\n",
      "20\n",
      "----------\n",
      "location\n",
      "Seoul\n",
      "----------\n"
     ]
    }
   ],
   "source": [
    "for elem in dic: # key 가져오기\n",
    "    print(elem)\n",
    "    print(dic[elem])\n",
    "    print('-' * 10)"
   ]
  },
  {
   "cell_type": "code",
   "execution_count": 69,
   "id": "c2fcd182",
   "metadata": {},
   "outputs": [
    {
     "name": "stdout",
     "output_type": "stream",
     "text": [
      "('name', 'Elias Kim')\n",
      "('age', 20)\n",
      "('location', 'Seoul')\n"
     ]
    }
   ],
   "source": [
    "for item in dic.items(): # item 가져오기\n",
    "    print(item)"
   ]
  },
  {
   "cell_type": "code",
   "execution_count": 70,
   "id": "90b588a6",
   "metadata": {},
   "outputs": [
    {
     "name": "stdout",
     "output_type": "stream",
     "text": [
      "name:Elias Kim\n",
      "age:20\n",
      "location:Seoul\n"
     ]
    }
   ],
   "source": [
    "for key, value in dic.items(): # unpacking\n",
    "    print(f'{key}:{value}')"
   ]
  },
  {
   "cell_type": "code",
   "execution_count": 71,
   "id": "2ff3e9e1",
   "metadata": {},
   "outputs": [
    {
     "ename": "KeyError",
     "evalue": "'company'",
     "output_type": "error",
     "traceback": [
      "\u001b[1;31m---------------------------------------------------------------------------\u001b[0m",
      "\u001b[1;31mKeyError\u001b[0m                                  Traceback (most recent call last)",
      "Cell \u001b[1;32mIn[71], line 1\u001b[0m\n\u001b[1;32m----> 1\u001b[0m \u001b[38;5;28mprint\u001b[39m(\u001b[43mdic\u001b[49m\u001b[43m[\u001b[49m\u001b[38;5;124;43m'\u001b[39;49m\u001b[38;5;124;43mcompany\u001b[39;49m\u001b[38;5;124;43m'\u001b[39;49m\u001b[43m]\u001b[49m) \u001b[38;5;66;03m# 없는 키값을 접근하면 예외발생\u001b[39;00m\n",
      "\u001b[1;31mKeyError\u001b[0m: 'company'"
     ]
    }
   ],
   "source": [
    "print(dic['company']) # 없는 키값을 접근하면 예외발생"
   ]
  },
  {
   "cell_type": "code",
   "execution_count": 72,
   "id": "e8522340",
   "metadata": {},
   "outputs": [
    {
     "name": "stdout",
     "output_type": "stream",
     "text": [
      "\"company\" key is not exist\n"
     ]
    }
   ],
   "source": [
    "if 'company' in dic:\n",
    "    print(dic['company'])\n",
    "else:\n",
    "    print('\"company\" key is not exist')"
   ]
  },
  {
   "cell_type": "code",
   "execution_count": 73,
   "id": "0537449e",
   "metadata": {},
   "outputs": [
    {
     "name": "stdout",
     "output_type": "stream",
     "text": [
      "a:1\n",
      "b:2\n",
      "c:3\n",
      "a:1\n",
      "b:2\n",
      "c:3\n",
      "same\n",
      "not same\n"
     ]
    }
   ],
   "source": [
    "# python 3.6 이전에는 삽입순서대로 들어가지 않음 -> 하위호환겅 고려\n",
    "normal_dict = {}\n",
    "normal_dict['a'] = 1\n",
    "normal_dict['b'] = 2\n",
    "normal_dict['c'] = 3\n",
    "\n",
    "for k, v in normal_dict.items():\n",
    "    print(f'{k}:{v}')\n",
    "\n",
    "from collections import OrderedDict\n",
    "\n",
    "order_dict = OrderedDict()\n",
    "order_dict['a'] = 1\n",
    "order_dict['b'] = 2\n",
    "order_dict['c'] = 3\n",
    "\n",
    "for k, v in order_dict.items():\n",
    "    print(f'{k}:{v}')\n",
    "    \n",
    "# Dict과 Orderdict간엔 순서무시\n",
    "normal_dict = {'a':1, 'c':3, 'b':2}\n",
    "order_dict = {'a':1, 'b':2, 'c':3}\n",
    "print('same' if normal_dict == order_dict else 'not same')\n",
    "\n",
    "# OrderedDict간에는 순서중요\n",
    "order_dict = OrderedDict({'a':1, 'b':2, 'c':3})\n",
    "order_dict2 = OrderedDict({'a':1, 'c':3, 'b':2})\n",
    "print('same' if order_dict == order_dict2 else 'not same')"
   ]
  },
  {
   "cell_type": "markdown",
   "id": "62ad37ca",
   "metadata": {},
   "source": [
    "## Mutable vs Immutable\n",
    "> https://ledgku.tistory.com/54"
   ]
  },
  {
   "cell_type": "markdown",
   "id": "e9622eb5",
   "metadata": {},
   "source": [
    "### Immutable"
   ]
  },
  {
   "cell_type": "code",
   "execution_count": 74,
   "id": "c00dc076",
   "metadata": {},
   "outputs": [],
   "source": [
    "def change(x):\n",
    "    x = 20"
   ]
  },
  {
   "cell_type": "code",
   "execution_count": 75,
   "id": "18242521",
   "metadata": {},
   "outputs": [
    {
     "data": {
      "text/plain": [
       "10"
      ]
     },
     "execution_count": 75,
     "metadata": {},
     "output_type": "execute_result"
    }
   ],
   "source": [
    "a = 10\n",
    "change(a)\n",
    "a"
   ]
  },
  {
   "cell_type": "code",
   "execution_count": 48,
   "id": "da0e1f4a",
   "metadata": {},
   "outputs": [],
   "source": [
    "def change2(x):\n",
    "    x = 'World'"
   ]
  },
  {
   "cell_type": "code",
   "execution_count": 47,
   "id": "97be4877",
   "metadata": {},
   "outputs": [
    {
     "ename": "NameError",
     "evalue": "name 'change2' is not defined",
     "output_type": "error",
     "traceback": [
      "\u001b[1;31m---------------------------------------------------------------------------\u001b[0m",
      "\u001b[1;31mNameError\u001b[0m                                 Traceback (most recent call last)",
      "Cell \u001b[1;32mIn[47], line 2\u001b[0m\n\u001b[0;32m      1\u001b[0m a \u001b[38;5;241m=\u001b[39m \u001b[38;5;124m'\u001b[39m\u001b[38;5;124mHello\u001b[39m\u001b[38;5;124m'\u001b[39m\n\u001b[1;32m----> 2\u001b[0m \u001b[43mchange2\u001b[49m(a)\n\u001b[0;32m      3\u001b[0m a\n",
      "\u001b[1;31mNameError\u001b[0m: name 'change2' is not defined"
     ]
    }
   ],
   "source": [
    "a = 'Hello'\n",
    "change2(a)\n",
    "a"
   ]
  },
  {
   "cell_type": "code",
   "execution_count": 78,
   "id": "0afcb28f",
   "metadata": {},
   "outputs": [],
   "source": [
    "def change4(x):\n",
    "    x = (1,2,3)"
   ]
  },
  {
   "cell_type": "code",
   "execution_count": 79,
   "id": "954e8bbf",
   "metadata": {},
   "outputs": [
    {
     "data": {
      "text/plain": [
       "(1, 2)"
      ]
     },
     "execution_count": 79,
     "metadata": {},
     "output_type": "execute_result"
    }
   ],
   "source": [
    "a = (1,2)\n",
    "change4(a)\n",
    "a"
   ]
  },
  {
   "cell_type": "markdown",
   "id": "ba536a08",
   "metadata": {},
   "source": [
    "### Mutable"
   ]
  },
  {
   "cell_type": "code",
   "execution_count": 49,
   "id": "f44cf81c",
   "metadata": {},
   "outputs": [],
   "source": [
    "def change3(x):\n",
    "    x.append(4)"
   ]
  },
  {
   "cell_type": "code",
   "execution_count": 50,
   "id": "1ee1b6a3",
   "metadata": {},
   "outputs": [
    {
     "data": {
      "text/plain": [
       "[1, 2, 3, 4]"
      ]
     },
     "execution_count": 50,
     "metadata": {},
     "output_type": "execute_result"
    }
   ],
   "source": [
    "a = [1,2,3]\n",
    "change3(a)\n",
    "a"
   ]
  },
  {
   "cell_type": "code",
   "execution_count": 82,
   "id": "7fd06b8c",
   "metadata": {},
   "outputs": [],
   "source": [
    "def change4(x):\n",
    "    x['age'] = 20"
   ]
  },
  {
   "cell_type": "code",
   "execution_count": 83,
   "id": "96ed9147",
   "metadata": {},
   "outputs": [
    {
     "data": {
      "text/plain": [
       "{'name': 'Elias Kim', 'age': 20}"
      ]
     },
     "execution_count": 83,
     "metadata": {},
     "output_type": "execute_result"
    }
   ],
   "source": [
    "a = {'name':'Elias Kim'}\n",
    "change4(a)\n",
    "a"
   ]
  },
  {
   "cell_type": "markdown",
   "id": "7ab214e7",
   "metadata": {},
   "source": [
    "### if elif else"
   ]
  },
  {
   "cell_type": "code",
   "execution_count": null,
   "id": "70ee468f",
   "metadata": {},
   "outputs": [],
   "source": [
    "if 조건1:\n",
    "    조건1이 참일 때 실행되는 명령\n",
    "elif 조건2:\n",
    "    조건1이 거짓이고 조건2가 참일 때 실행되는 명령\n",
    "elif 조건3:\n",
    "    조건1과 조건2가 거짓이고 조건3가 참일 때 실행되는 명령\n",
    "\n",
    "...(생략)...\n",
    "\n",
    "\n",
    "else:\n",
    "    지금까지의 어떤 조건도 참이 아니면 실행되는 명령"
   ]
  },
  {
   "cell_type": "markdown",
   "id": "1706da68",
   "metadata": {},
   "source": [
    "### Global Variable"
   ]
  },
  {
   "cell_type": "code",
   "execution_count": 51,
   "id": "c6496df7",
   "metadata": {},
   "outputs": [],
   "source": [
    "g_num = 10"
   ]
  },
  {
   "cell_type": "code",
   "execution_count": 52,
   "id": "a015b0e9",
   "metadata": {},
   "outputs": [],
   "source": [
    "def fun():\n",
    "    print(g_num)"
   ]
  },
  {
   "cell_type": "code",
   "execution_count": 53,
   "id": "d81daf43",
   "metadata": {},
   "outputs": [
    {
     "name": "stdout",
     "output_type": "stream",
     "text": [
      "10\n"
     ]
    }
   ],
   "source": [
    "fun()"
   ]
  },
  {
   "cell_type": "code",
   "execution_count": 54,
   "id": "07b5b5d7",
   "metadata": {},
   "outputs": [],
   "source": [
    "def fun2():\n",
    "    g_num = 5\n",
    "    print(g_num)"
   ]
  },
  {
   "cell_type": "code",
   "execution_count": 55,
   "id": "e8223279",
   "metadata": {},
   "outputs": [
    {
     "name": "stdout",
     "output_type": "stream",
     "text": [
      "5\n"
     ]
    }
   ],
   "source": [
    "fun2()"
   ]
  },
  {
   "cell_type": "code",
   "execution_count": 56,
   "id": "4f10bba9",
   "metadata": {},
   "outputs": [
    {
     "data": {
      "text/plain": [
       "10"
      ]
     },
     "execution_count": 56,
     "metadata": {},
     "output_type": "execute_result"
    }
   ],
   "source": [
    "g_num"
   ]
  },
  {
   "cell_type": "code",
   "execution_count": 90,
   "id": "b6df9eeb",
   "metadata": {},
   "outputs": [],
   "source": [
    "def fun3():\n",
    "    global g_num\n",
    "    g_num = 5\n",
    "    print(g_num)"
   ]
  },
  {
   "cell_type": "code",
   "execution_count": 91,
   "id": "92aaacc2",
   "metadata": {},
   "outputs": [
    {
     "name": "stdout",
     "output_type": "stream",
     "text": [
      "5\n"
     ]
    }
   ],
   "source": [
    "fun3()"
   ]
  },
  {
   "cell_type": "code",
   "execution_count": 92,
   "id": "0405ff54",
   "metadata": {},
   "outputs": [
    {
     "data": {
      "text/plain": [
       "5"
      ]
     },
     "execution_count": 92,
     "metadata": {},
     "output_type": "execute_result"
    }
   ],
   "source": [
    "g_num"
   ]
  },
  {
   "cell_type": "markdown",
   "id": "38bbaef4",
   "metadata": {},
   "source": [
    "### Looping"
   ]
  },
  {
   "cell_type": "markdown",
   "id": "a6eb51a9",
   "metadata": {},
   "source": [
    "#### While Loop"
   ]
  },
  {
   "cell_type": "markdown",
   "id": "4dae7374",
   "metadata": {},
   "source": [
    "<img src=\"https://media.geeksforgeeks.org/wp-content/uploads/20191226130537/while-loop1.jpg\" width=\"500\">"
   ]
  },
  {
   "cell_type": "code",
   "execution_count": 93,
   "id": "01770a65",
   "metadata": {},
   "outputs": [
    {
     "name": "stdout",
     "output_type": "stream",
     "text": [
      "Hello Geek\n",
      "Hello Geek\n",
      "Hello Geek\n",
      "4\n",
      "3\n",
      "2\n",
      "1\n",
      "11\n"
     ]
    }
   ],
   "source": [
    "# Python program to illustrate  \n",
    "# while and while-else loop\n",
    "i = 0\n",
    "while (i < 3):      \n",
    "    i = i + 1\n",
    "    print(\"Hello Geek\")  \n",
    "   \n",
    "# checks if list still \n",
    "# contains any element  \n",
    "a = [1, 2, 3, 4] \n",
    "while a: \n",
    "    print(a.pop()) \n",
    "    # 반대는?\n",
    "   \n",
    "i = 10\n",
    "while i < 12:  \n",
    "    i += 1\n",
    "    print(i)  \n",
    "    break\n",
    "else: # Not executed as there is a break  \n",
    "    print(\"No Break\") "
   ]
  },
  {
   "cell_type": "markdown",
   "id": "4e017d9c",
   "metadata": {},
   "source": [
    "#### For Loop"
   ]
  },
  {
   "cell_type": "markdown",
   "id": "1dfb5008",
   "metadata": {},
   "source": [
    "<img src=\"https://media.geeksforgeeks.org/wp-content/uploads/20191226130622/for-loop-python1.jpg\" width=500>"
   ]
  },
  {
   "cell_type": "code",
   "execution_count": 94,
   "id": "9a35cf17",
   "metadata": {},
   "outputs": [
    {
     "name": "stdout",
     "output_type": "stream",
     "text": [
      "List Iteration\n",
      "geeks\n",
      "for\n",
      "geeks\n",
      "\n",
      "String Iteration\n",
      "G\n",
      "e\n",
      "e\n",
      "k\n",
      "s\n",
      "\n",
      "For-else loop\n",
      "G\n",
      "e\n",
      "e\n",
      "k\n",
      "s\n",
      "No Break\n",
      "\n",
      "G\n"
     ]
    }
   ],
   "source": [
    "# Python program to illustrate  \n",
    "# Iterating over a list  \n",
    "print(\"List Iteration\")  \n",
    "l = [\"geeks\", \"for\", \"geeks\"]  \n",
    "for i in l:  \n",
    "    print(i) \n",
    "     \n",
    "# Iterating over a String  \n",
    "print(\"\\nString Iteration\")      \n",
    "s = \"Geeks\"\n",
    "for i in s :  \n",
    "    print(i)  \n",
    "     \n",
    "print(\"\\nFor-else loop\")\n",
    "for i in s:  \n",
    "    print(i)  \n",
    "else: # Executed because no break in for  \n",
    "    print(\"No Break\\n\")  \n",
    "   \n",
    "for i in s:  \n",
    "    print(i)  \n",
    "    break\n",
    "else: # Not executed as there is a break  \n",
    "    print(\"No Break\")  "
   ]
  },
  {
   "cell_type": "markdown",
   "id": "3fb866b5",
   "metadata": {},
   "source": [
    "#### range function()"
   ]
  },
  {
   "cell_type": "markdown",
   "id": "3fb6bcb0",
   "metadata": {},
   "source": [
    "<img src=\"https://media.geeksforgeeks.org/wp-content/uploads/20191224171636/PythonRange0102-11.png\" width=500>"
   ]
  },
  {
   "cell_type": "code",
   "execution_count": 95,
   "id": "7f58ad0a",
   "metadata": {},
   "outputs": [
    {
     "name": "stdout",
     "output_type": "stream",
     "text": [
      "0 1 2 3 4 5 6 7 8 9 \n",
      "2 3 4 5 6 7 8 \n",
      "15 18 21 24 "
     ]
    }
   ],
   "source": [
    "# Python program to demonstrate\n",
    "# range() function\n",
    "\n",
    "# for(int i=0; i<10; i++)\n",
    " \n",
    "for i in range(10): \n",
    "    print(i, end =\" \") \n",
    "print()\n",
    " \n",
    "for i in range(2, 9): \n",
    "    print(i, end =\" \") \n",
    "print()\n",
    " \n",
    "# incremented by 3 \n",
    "for i in range(15, 25, 3): \n",
    "    print(i, end =\" \") "
   ]
  },
  {
   "cell_type": "markdown",
   "id": "91e6f8aa",
   "metadata": {},
   "source": [
    "#### Control Loop statement"
   ]
  },
  {
   "cell_type": "code",
   "execution_count": 97,
   "id": "391efa68",
   "metadata": {},
   "outputs": [
    {
     "ename": "IndentationError",
     "evalue": "expected an indented block (3888183496.py, line 25)",
     "output_type": "error",
     "traceback": [
      "\u001b[1;36m  Cell \u001b[1;32mIn[97], line 25\u001b[1;36m\u001b[0m\n\u001b[1;33m    #     pass\u001b[0m\n\u001b[1;37m              ^\u001b[0m\n\u001b[1;31mIndentationError\u001b[0m\u001b[1;31m:\u001b[0m expected an indented block\n"
     ]
    }
   ],
   "source": [
    "# Python program to demonstrate\n",
    "# break, continue and pass \n",
    "   \n",
    "s = 'geeksforgeeks'\n",
    " \n",
    "for letter in s: \n",
    "    if letter == 'e' or letter == 's': \n",
    "        break\n",
    "    print(letter, end = \" \")\n",
    "print()\n",
    " \n",
    "for letter in s: \n",
    "    if letter == 'e' or letter == 's': \n",
    "        continue\n",
    "    print(letter, end = \" \")\n",
    "print()    \n",
    " \n",
    "for letter in s: \n",
    "    if letter == 'e' or letter == 's': \n",
    "        pass\n",
    "    print(letter, end = \" \")\n",
    "    \n",
    "def funcA():\n",
    "    # todo: make list\n",
    "    pass\n"
   ]
  },
  {
   "cell_type": "markdown",
   "id": "b41ccabc",
   "metadata": {},
   "source": [
    "### Function"
   ]
  },
  {
   "cell_type": "code",
   "execution_count": 98,
   "id": "28630223",
   "metadata": {},
   "outputs": [],
   "source": [
    "def func_add(a, b):\n",
    "    c = a+b\n",
    "    return c"
   ]
  },
  {
   "cell_type": "code",
   "execution_count": 99,
   "id": "5da753b2",
   "metadata": {},
   "outputs": [
    {
     "data": {
      "text/plain": [
       "30"
      ]
     },
     "execution_count": 99,
     "metadata": {},
     "output_type": "execute_result"
    }
   ],
   "source": [
    "func_add(10, 20)"
   ]
  },
  {
   "cell_type": "code",
   "execution_count": 102,
   "id": "630e18bb",
   "metadata": {},
   "outputs": [
    {
     "ename": "SyntaxError",
     "evalue": "non-default argument follows default argument (2825219645.py, line 5)",
     "output_type": "error",
     "traceback": [
      "\u001b[1;36m  Cell \u001b[1;32mIn[102], line 5\u001b[1;36m\u001b[0m\n\u001b[1;33m    def person_info(name, age=22, address): # Error!!!\u001b[0m\n\u001b[1;37m                                         ^\u001b[0m\n\u001b[1;31mSyntaxError\u001b[0m\u001b[1;31m:\u001b[0m non-default argument follows default argument\n"
     ]
    }
   ],
   "source": [
    "def person_info(name, age=22):\n",
    "    print('Name:', name)\n",
    "    print('Age:', age)\n",
    "    \n",
    "def person_info(name, age=22, address): # Error!!!\n",
    "# def person_info(name, address, age=22): # Ok!!!\n",
    "    print('Name:', name)\n",
    "    print('Age:', age)\n",
    "    print('Address:', address)"
   ]
  },
  {
   "cell_type": "code",
   "execution_count": 103,
   "id": "87b8c6fe",
   "metadata": {},
   "outputs": [
    {
     "name": "stdout",
     "output_type": "stream",
     "text": [
      "Name: Elias Kim\n",
      "Age: 20\n"
     ]
    }
   ],
   "source": [
    "person_info('Elias Kim', 20)"
   ]
  },
  {
   "cell_type": "code",
   "execution_count": 107,
   "id": "652b54c3",
   "metadata": {},
   "outputs": [
    {
     "name": "stdout",
     "output_type": "stream",
     "text": [
      "Name: Elias Kim\n",
      "Age: 22\n"
     ]
    }
   ],
   "source": [
    "person_info(age=22, name='Elias Kim')"
   ]
  },
  {
   "cell_type": "code",
   "execution_count": 108,
   "id": "27dfcd42",
   "metadata": {},
   "outputs": [
    {
     "name": "stdout",
     "output_type": "stream",
     "text": [
      "Name: Elias Kim\n",
      "Age: 22\n"
     ]
    }
   ],
   "source": [
    "person_info('Elias Kim')"
   ]
  },
  {
   "cell_type": "code",
   "execution_count": 109,
   "id": "3d6a8eb4",
   "metadata": {},
   "outputs": [],
   "source": [
    "def multi_return(a, b):\n",
    "    return (a+b, a-b, a*b, a/b)  # packing"
   ]
  },
  {
   "cell_type": "code",
   "execution_count": 110,
   "id": "2aaf04ec",
   "metadata": {},
   "outputs": [
    {
     "data": {
      "text/plain": [
       "(12, 8, 20, 5.0)"
      ]
     },
     "execution_count": 110,
     "metadata": {},
     "output_type": "execute_result"
    }
   ],
   "source": [
    "ret = multi_return(10, 2)\n",
    "ret"
   ]
  },
  {
   "cell_type": "code",
   "execution_count": 116,
   "id": "f0e99555",
   "metadata": {},
   "outputs": [
    {
     "name": "stdout",
     "output_type": "stream",
     "text": [
      "12\n",
      "8\n",
      "20\n",
      "5.0\n"
     ]
    }
   ],
   "source": [
    "sum_, minus, multi, devide = multi_return(10, 2)\n",
    "# sum_, minus, multi = multi_return(10, 2) # Error\n",
    "# data = multi_return(10, 2)\n",
    "# print(len(data))\n",
    "print(sum_)\n",
    "print(minus)\n",
    "print(multi)\n",
    "print(devide)"
   ]
  },
  {
   "cell_type": "code",
   "execution_count": 112,
   "id": "f7ba67a4",
   "metadata": {},
   "outputs": [
    {
     "name": "stdout",
     "output_type": "stream",
     "text": [
      "12\n",
      "20\n"
     ]
    }
   ],
   "source": [
    "sum_, _, multi, _ = multi_return(10, 2)\n",
    "print(sum_)\n",
    "print(multi)"
   ]
  },
  {
   "cell_type": "markdown",
   "id": "bd6af8dd",
   "metadata": {},
   "source": [
    "#### Lambda 람다 함수"
   ]
  },
  {
   "cell_type": "code",
   "execution_count": 117,
   "id": "1dee9a40",
   "metadata": {},
   "outputs": [
    {
     "data": {
      "text/plain": [
       "3"
      ]
     },
     "execution_count": 117,
     "metadata": {},
     "output_type": "execute_result"
    }
   ],
   "source": [
    "def add(a, b):\n",
    "    return a+b\n",
    "\n",
    "add(1,2)"
   ]
  },
  {
   "cell_type": "code",
   "execution_count": 119,
   "id": "eb4426cb",
   "metadata": {},
   "outputs": [
    {
     "data": {
      "text/plain": [
       "3"
      ]
     },
     "execution_count": 119,
     "metadata": {},
     "output_type": "execute_result"
    }
   ],
   "source": [
    "add = lambda x, y: x + y\n",
    "add(1,2)"
   ]
  },
  {
   "cell_type": "code",
   "execution_count": 120,
   "id": "c9ab382a",
   "metadata": {},
   "outputs": [
    {
     "data": {
      "text/plain": [
       "[2, 4, 0, 0, 0]"
      ]
     },
     "execution_count": 120,
     "metadata": {},
     "output_type": "execute_result"
    }
   ],
   "source": [
    "def fun(x):\n",
    "    if x < 3:\n",
    "        return x * 2\n",
    "    else:\n",
    "        return x * 0\n",
    "\n",
    "a = [1,2,3,4,5]\n",
    "list(map(fun, a))"
   ]
  },
  {
   "cell_type": "code",
   "execution_count": null,
   "id": "80b90881",
   "metadata": {},
   "outputs": [],
   "source": [
    "a = [1,2,3,4,5]\n",
    "list(map(lambda x: x*2 if x < 3 else x*0, a))"
   ]
  },
  {
   "cell_type": "code",
   "execution_count": 121,
   "id": "f4e6a6b3",
   "metadata": {},
   "outputs": [],
   "source": [
    "def fun2(x):\n",
    "    return x['name']"
   ]
  },
  {
   "cell_type": "code",
   "execution_count": null,
   "id": "b766de09-be25-43ce-b6bd-4711591cf059",
   "metadata": {},
   "outputs": [],
   "source": [
    "a = [1,2,3,4,5]"
   ]
  },
  {
   "cell_type": "code",
   "execution_count": 122,
   "id": "222f7841",
   "metadata": {},
   "outputs": [
    {
     "data": {
      "text/plain": [
       "[{'name': 'kim', 'age': 20},\n",
       " {'name': 'lee', 'age': 21},\n",
       " {'name': 'park', 'age': 24}]"
      ]
     },
     "execution_count": 122,
     "metadata": {},
     "output_type": "execute_result"
    }
   ],
   "source": [
    "dic_list = [{'name': 'kim', 'age': 20}, {'name': 'park', 'age':24}, {'name':'lee', 'age':21}]\n",
    "sorted(dic_list, key=fun2, reverse=False)"
   ]
  },
  {
   "cell_type": "code",
   "execution_count": 123,
   "id": "8f0a1b22",
   "metadata": {},
   "outputs": [
    {
     "data": {
      "text/plain": [
       "[{'name': 'kim', 'age': 20},\n",
       " {'name': 'lee', 'age': 21},\n",
       " {'name': 'park', 'age': 24}]"
      ]
     },
     "execution_count": 123,
     "metadata": {},
     "output_type": "execute_result"
    }
   ],
   "source": [
    "dic_list = [{'name': 'kim', 'age': 20}, {'name': 'park', 'age':24}, {'name':'lee', 'age':21}]\n",
    "sorted(dic_list, key=lambda item: item['name'], reverse=False)"
   ]
  },
  {
   "cell_type": "code",
   "execution_count": 124,
   "id": "75a01b13",
   "metadata": {},
   "outputs": [
    {
     "data": {
      "text/plain": [
       "['Elias', 'Kim']"
      ]
     },
     "execution_count": 124,
     "metadata": {},
     "output_type": "execute_result"
    }
   ],
   "source": [
    "a = [{'name':'Elias'}, {'name':'Kim'}]\n",
    "list(map(lambda x: x['name'], a))"
   ]
  },
  {
   "cell_type": "markdown",
   "id": "78f3ffc3",
   "metadata": {},
   "source": [
    "#### 다항인자"
   ]
  },
  {
   "cell_type": "code",
   "execution_count": 126,
   "id": "c063a99f",
   "metadata": {},
   "outputs": [
    {
     "name": "stdout",
     "output_type": "stream",
     "text": [
      "10 20 30\n",
      "10\n"
     ]
    }
   ],
   "source": [
    "a = 10\n",
    "b = 20\n",
    "c = 30\n",
    "print(a,b,c)\n",
    "print(a)"
   ]
  },
  {
   "cell_type": "code",
   "execution_count": 127,
   "id": "aaf85771",
   "metadata": {},
   "outputs": [
    {
     "name": "stdout",
     "output_type": "stream",
     "text": [
      "length: 5\n",
      "<class 'tuple'>\n",
      "1\n",
      "2\n",
      "3\n",
      "4\n",
      "5\n",
      "15\n"
     ]
    }
   ],
   "source": [
    "# *arg = tuple\n",
    "def multi_argument(*args):\n",
    "    print('length:', len(args))\n",
    "    print(type(args))\n",
    "    \n",
    "    total = 0\n",
    "    for arg in args:\n",
    "        print(arg)\n",
    "        total += arg\n",
    "    \n",
    "    print(total)\n",
    "        \n",
    "multi_argument(1,2,3,4,5)"
   ]
  },
  {
   "cell_type": "code",
   "execution_count": null,
   "id": "dcc39077",
   "metadata": {},
   "outputs": [],
   "source": [
    "fun(name='hi', age=20)"
   ]
  },
  {
   "cell_type": "code",
   "execution_count": 62,
   "id": "c390e4d7",
   "metadata": {},
   "outputs": [
    {
     "name": "stdout",
     "output_type": "stream",
     "text": [
      "length: 2\n",
      "<class 'dict'>\n",
      "{'name': 'Elias Kim', 'age': 24}\n",
      "('name', 'Elias Kim')\n",
      "('age', 24)\n"
     ]
    }
   ],
   "source": [
    "def multi_argument2(**args):\n",
    "    print('length:', len(args))\n",
    "    print(type(args))\n",
    "    \n",
    "    print(args)\n",
    "    \n",
    "    for arg in args.items():\n",
    "        print(arg)\n",
    "\n",
    "multi_argument2(name='Elias Kim', age=24)"
   ]
  },
  {
   "cell_type": "code",
   "execution_count": 65,
   "id": "892fb90b",
   "metadata": {},
   "outputs": [
    {
     "name": "stdout",
     "output_type": "stream",
     "text": [
      "arg: single\n",
      "--------------------\n",
      "arg_list: a\n",
      "arg_list: b\n",
      "arg_list: 1\n",
      "arg_list: 2\n",
      "--------------------\n",
      "arg_dict: ('name', 'Elias')\n",
      "arg_dict: ('age', 24)\n"
     ]
    }
   ],
   "source": [
    "def multi_argument3(arg, *arg_list, **arg_dict):\n",
    "    print(f'arg: {arg}')\n",
    "    print('-' * 20)\n",
    "    for _arg in arg_list:\n",
    "        print(f'arg_list: {_arg}')\n",
    "    print('-' * 20)\n",
    "    for _arg in arg_dict.items():\n",
    "        print(f'arg_dict: {_arg}')\n",
    "\n",
    "multi_argument3('single', 'a', 'b', 1, 2, name='Elias', age=24)"
   ]
  },
  {
   "cell_type": "markdown",
   "id": "753d4a7d",
   "metadata": {},
   "source": [
    "#### Yeild"
   ]
  },
  {
   "cell_type": "code",
   "execution_count": 130,
   "id": "c29735e4",
   "metadata": {},
   "outputs": [],
   "source": [
    "def return_abc():\n",
    "    return list(\"ABC\") # [\"A\", \"B\", \"C\"]\n",
    "\n",
    "def yield_abc():\n",
    "    yield \"A\"\n",
    "    yield \"B\"\n",
    "    yield \"C\""
   ]
  },
  {
   "cell_type": "code",
   "execution_count": 131,
   "id": "52739ac5",
   "metadata": {},
   "outputs": [
    {
     "data": {
      "text/plain": [
       "['A', 'B', 'C']"
      ]
     },
     "execution_count": 131,
     "metadata": {},
     "output_type": "execute_result"
    }
   ],
   "source": [
    "data = return_abc()\n",
    "data"
   ]
  },
  {
   "cell_type": "code",
   "execution_count": 132,
   "id": "ef594e39",
   "metadata": {},
   "outputs": [
    {
     "name": "stdout",
     "output_type": "stream",
     "text": [
      "A\n",
      "B\n",
      "C\n"
     ]
    }
   ],
   "source": [
    "for i in data:\n",
    "    print(i)"
   ]
  },
  {
   "cell_type": "code",
   "execution_count": 133,
   "id": "5eb64fa5",
   "metadata": {},
   "outputs": [
    {
     "name": "stdout",
     "output_type": "stream",
     "text": [
      "A\n",
      "B\n",
      "C\n"
     ]
    }
   ],
   "source": [
    "for i in data:\n",
    "    print(i)"
   ]
  },
  {
   "cell_type": "code",
   "execution_count": 134,
   "id": "89029fc7",
   "metadata": {},
   "outputs": [
    {
     "data": {
      "text/plain": [
       "<generator object yield_abc at 0x000001B3CD690430>"
      ]
     },
     "execution_count": 134,
     "metadata": {},
     "output_type": "execute_result"
    }
   ],
   "source": [
    "data2 = yield_abc()\n",
    "data2"
   ]
  },
  {
   "cell_type": "code",
   "execution_count": 135,
   "id": "93132eca",
   "metadata": {},
   "outputs": [
    {
     "name": "stdout",
     "output_type": "stream",
     "text": [
      "A\n",
      "B\n",
      "C\n"
     ]
    }
   ],
   "source": [
    "for i in data2:\n",
    "    print(i)"
   ]
  },
  {
   "cell_type": "code",
   "execution_count": 136,
   "id": "625c30f7",
   "metadata": {},
   "outputs": [],
   "source": [
    "for i in data2:\n",
    "    print(i)"
   ]
  },
  {
   "cell_type": "code",
   "execution_count": 137,
   "id": "6167b8b1",
   "metadata": {},
   "outputs": [],
   "source": [
    "import time"
   ]
  },
  {
   "cell_type": "code",
   "execution_count": 138,
   "id": "edc8a768",
   "metadata": {},
   "outputs": [],
   "source": [
    "def delay_return_abc():\n",
    "    result = []\n",
    "    for i in range(5):\n",
    "        time.sleep(1)\n",
    "        result.append(i)\n",
    "    return result\n",
    "\n",
    "def delay_yield_abc():\n",
    "    for i in range(5):\n",
    "        time.sleep(1)\n",
    "        yield i"
   ]
  },
  {
   "cell_type": "code",
   "execution_count": 139,
   "id": "17358444",
   "metadata": {},
   "outputs": [
    {
     "name": "stdout",
     "output_type": "stream",
     "text": [
      "0\n",
      "1\n",
      "2\n",
      "3\n",
      "4\n"
     ]
    }
   ],
   "source": [
    "for i in delay_return_abc():\n",
    "    print(i)"
   ]
  },
  {
   "cell_type": "code",
   "execution_count": 140,
   "id": "34756337",
   "metadata": {},
   "outputs": [
    {
     "name": "stdout",
     "output_type": "stream",
     "text": [
      "0\n",
      "1\n",
      "2\n",
      "3\n",
      "4\n"
     ]
    }
   ],
   "source": [
    "for i in delay_yield_abc():\n",
    "    print(i)"
   ]
  },
  {
   "cell_type": "code",
   "execution_count": null,
   "id": "1bb50537",
   "metadata": {},
   "outputs": [],
   "source": [
    "# 메모리풀 발생\n",
    "def infinite_return():\n",
    "    result = []\n",
    "    while True:\n",
    "#         time.sleep(1)\n",
    "        result.append(\"HelloWorld\")"
   ]
  },
  {
   "cell_type": "code",
   "execution_count": null,
   "id": "2b5b051f",
   "metadata": {},
   "outputs": [],
   "source": [
    "# 메모리풀 발생하지 않음\n",
    "def infinite_yield():\n",
    "    while True:\n",
    "        time.sleep(1)\n",
    "        yield \"HelloWorld\""
   ]
  },
  {
   "cell_type": "code",
   "execution_count": null,
   "id": "d83419e0",
   "metadata": {},
   "outputs": [],
   "source": [
    "infinite_return()    "
   ]
  },
  {
   "cell_type": "code",
   "execution_count": null,
   "id": "52b70ad7",
   "metadata": {},
   "outputs": [],
   "source": [
    "for i in infinite_yield():\n",
    "    print(i)"
   ]
  },
  {
   "cell_type": "markdown",
   "id": "cf660c8f",
   "metadata": {},
   "source": [
    "#### generator vs list"
   ]
  },
  {
   "cell_type": "code",
   "execution_count": 143,
   "id": "1e51539b",
   "metadata": {},
   "outputs": [
    {
     "data": {
      "text/plain": [
       "list"
      ]
     },
     "execution_count": 143,
     "metadata": {},
     "output_type": "execute_result"
    }
   ],
   "source": [
    "dic_list = [{'name': 'kim', 'age': 20}, {'name': 'park', 'age':24}, {'name':'lee', 'age':21}]\n",
    "_list = [item['name'] for item in dic_list]\n",
    "type(_list)"
   ]
  },
  {
   "cell_type": "code",
   "execution_count": 144,
   "id": "13d64644",
   "metadata": {},
   "outputs": [
    {
     "name": "stdout",
     "output_type": "stream",
     "text": [
      "kim\n",
      "park\n",
      "lee\n"
     ]
    }
   ],
   "source": [
    "for name in _list:\n",
    "    print(name)"
   ]
  },
  {
   "cell_type": "code",
   "execution_count": 145,
   "id": "85bf22fb",
   "metadata": {},
   "outputs": [
    {
     "name": "stdout",
     "output_type": "stream",
     "text": [
      "kim\n",
      "park\n",
      "lee\n"
     ]
    }
   ],
   "source": [
    "for name in _list:\n",
    "    print(name)"
   ]
  },
  {
   "cell_type": "code",
   "execution_count": 146,
   "id": "97321ba3",
   "metadata": {},
   "outputs": [
    {
     "data": {
      "text/plain": [
       "generator"
      ]
     },
     "execution_count": 146,
     "metadata": {},
     "output_type": "execute_result"
    }
   ],
   "source": [
    "dic_list = [{'name': 'kim', 'age': 20}, {'name': 'park', 'age':24}, {'name':'lee', 'age':21}]\n",
    "gen = (item['name'] for item in dic_list)\n",
    "type(gen)"
   ]
  },
  {
   "cell_type": "code",
   "execution_count": 147,
   "id": "9725d548",
   "metadata": {},
   "outputs": [
    {
     "name": "stdout",
     "output_type": "stream",
     "text": [
      "kim\n",
      "park\n",
      "lee\n"
     ]
    }
   ],
   "source": [
    "for name in gen:\n",
    "    print(name)"
   ]
  },
  {
   "cell_type": "code",
   "execution_count": 148,
   "id": "7efc0dca",
   "metadata": {},
   "outputs": [],
   "source": [
    "for name in gen:\n",
    "    print(name)"
   ]
  },
  {
   "cell_type": "markdown",
   "id": "c941c22e",
   "metadata": {},
   "source": [
    "### map : 메소드와 데이터 연결"
   ]
  },
  {
   "cell_type": "code",
   "execution_count": 150,
   "id": "71c5f288",
   "metadata": {},
   "outputs": [],
   "source": [
    "dic_list = [\n",
    "    {'name': 'kim', 'age': 15, 'gender':'male'}, \n",
    "    {'name': 'park', 'age':19, 'gender':'female'}, \n",
    "    {'name':'lee', 'age':21, 'gender':'male'}]\n",
    "\n",
    "def gender(person):\n",
    "    return f\"{person['name']} is {person['gender']} and {person['age']} years old.\""
   ]
  },
  {
   "cell_type": "code",
   "execution_count": 151,
   "id": "a75c5c74",
   "metadata": {},
   "outputs": [
    {
     "data": {
      "text/plain": [
       "<map at 0x1b3cdd23e80>"
      ]
     },
     "execution_count": 151,
     "metadata": {},
     "output_type": "execute_result"
    }
   ],
   "source": [
    "map(gender, dic_list)"
   ]
  },
  {
   "cell_type": "code",
   "execution_count": 152,
   "id": "c06c5716",
   "metadata": {},
   "outputs": [
    {
     "name": "stdout",
     "output_type": "stream",
     "text": [
      "kim is male and 15 years old.\n",
      "park is female and 19 years old.\n",
      "lee is male and 21 years old.\n"
     ]
    }
   ],
   "source": [
    "for person in map(gender, dic_list):\n",
    "    print(person)"
   ]
  },
  {
   "cell_type": "code",
   "execution_count": 153,
   "id": "9c40a1c7",
   "metadata": {},
   "outputs": [
    {
     "data": {
      "text/plain": [
       "['kim is male and 15 years old.',\n",
       " 'park is female and 19 years old.',\n",
       " 'lee is male and 21 years old.']"
      ]
     },
     "execution_count": 153,
     "metadata": {},
     "output_type": "execute_result"
    }
   ],
   "source": [
    "person_list = list(map(gender, dic_list))\n",
    "person_list"
   ]
  },
  {
   "cell_type": "markdown",
   "id": "f7e4df5f",
   "metadata": {},
   "source": [
    "#### map with lambda method"
   ]
  },
  {
   "cell_type": "code",
   "execution_count": 154,
   "id": "77b21469",
   "metadata": {},
   "outputs": [
    {
     "data": {
      "text/plain": [
       "['kim is male and 15 years old.',\n",
       " 'park is female and 19 years old.',\n",
       " 'lee is male and 21 years old.']"
      ]
     },
     "execution_count": 154,
     "metadata": {},
     "output_type": "execute_result"
    }
   ],
   "source": [
    "person_list = list(\n",
    "    map(\n",
    "        lambda person: f\"{person['name']} is {person['gender']} and {person['age']} years old.\", \n",
    "        dic_list))\n",
    "person_list"
   ]
  },
  {
   "cell_type": "code",
   "execution_count": 155,
   "id": "a90709ef",
   "metadata": {},
   "outputs": [
    {
     "data": {
      "text/plain": [
       "['kim is not adult.', 'park is not adult.', 'lee is adult.']"
      ]
     },
     "execution_count": 155,
     "metadata": {},
     "output_type": "execute_result"
    }
   ],
   "source": [
    "list(\n",
    "    map(\n",
    "        lambda x: \n",
    "        f\"{x['name']} is adult.\" if x['age'] > 20 \n",
    "        else f\"{x['name']} is not adult.\", \n",
    "    dic_list))"
   ]
  },
  {
   "cell_type": "markdown",
   "id": "192a7636",
   "metadata": {},
   "source": [
    "#### 그러면 여자들만 뽑으려면?"
   ]
  },
  {
   "cell_type": "code",
   "execution_count": 156,
   "id": "09b68246",
   "metadata": {},
   "outputs": [],
   "source": [
    "def only_female(person):\n",
    "    if person['gender'] == 'female':\n",
    "        return f\"{person['name']} is {person['gender']} and {person['age']} years old.\"\n",
    "    else:\n",
    "        return None"
   ]
  },
  {
   "cell_type": "code",
   "execution_count": 157,
   "id": "c3b0cccc",
   "metadata": {},
   "outputs": [
    {
     "data": {
      "text/plain": [
       "[None, 'park is female and 19 years old.', None]"
      ]
     },
     "execution_count": 157,
     "metadata": {},
     "output_type": "execute_result"
    }
   ],
   "source": [
    "# 여자가 아닌 데이터도 None으로 넘어옴\n",
    "person_list = list(map(only_female, dic_list))\n",
    "person_list"
   ]
  },
  {
   "cell_type": "code",
   "execution_count": 158,
   "id": "9aa411fe",
   "metadata": {},
   "outputs": [
    {
     "data": {
      "text/plain": [
       "[{'name': 'park', 'age': 19, 'gender': 'female'}]"
      ]
     },
     "execution_count": 158,
     "metadata": {},
     "output_type": "execute_result"
    }
   ],
   "source": [
    "# 여자인 데이터만 넘어옴\n",
    "person_list = list(filter(only_female, dic_list))\n",
    "person_list"
   ]
  },
  {
   "cell_type": "code",
   "execution_count": 159,
   "id": "074bad8f",
   "metadata": {},
   "outputs": [
    {
     "data": {
      "text/plain": [
       "[{'name': 'park', 'age': 19, 'gender': 'female'}]"
      ]
     },
     "execution_count": 159,
     "metadata": {},
     "output_type": "execute_result"
    }
   ],
   "source": [
    "# lambda 사용 (True인 데이터만 넘어옴)\n",
    "female_list = list(\n",
    "    filter(\n",
    "        lambda person: person['gender'] == 'female', \n",
    "        dic_list))\n",
    "female_list"
   ]
  },
  {
   "cell_type": "code",
   "execution_count": 160,
   "id": "13a6bd77",
   "metadata": {},
   "outputs": [
    {
     "name": "stdout",
     "output_type": "stream",
     "text": [
      "[100, 2, 8, 60, 4, 10]\n",
      "[True, True, True, True, False, True, False, False, True, False]\n"
     ]
    }
   ],
   "source": [
    "a = [100, 2, 8, 60, 5, 4, 3, 31, 10, 11]\n",
    " \n",
    "# 람다함수와 filter를 쓰게되면 람다식내의 True인 데이터만 list로 생성\n",
    "filtered = filter (lambda x: x % 2 == 0, a)\n",
    "print(list(filtered))\n",
    " \n",
    "# 람다함수와 map을 쓰게되면 lambda의 결과값을 list로 생성\n",
    "mapped = map (lambda x: x % 2 == 0, a)\n",
    "print(list(mapped))"
   ]
  },
  {
   "cell_type": "markdown",
   "id": "481f2df9",
   "metadata": {},
   "source": [
    "### Deque in collections"
   ]
  },
  {
   "cell_type": "code",
   "execution_count": 161,
   "id": "773af858",
   "metadata": {},
   "outputs": [
    {
     "data": {
      "text/plain": [
       "deque(['name', 'age', 'DOB'])"
      ]
     },
     "execution_count": 161,
     "metadata": {},
     "output_type": "execute_result"
    }
   ],
   "source": [
    "from collections import deque\n",
    "     \n",
    "# Declaring deque\n",
    "queue = deque(['name','age','DOB']) \n",
    "queue"
   ]
  },
  {
   "cell_type": "code",
   "execution_count": 162,
   "id": "25e68424",
   "metadata": {},
   "outputs": [
    {
     "data": {
      "text/plain": [
       "deque(['name', 'age', 'DOB', 'height'])"
      ]
     },
     "execution_count": 162,
     "metadata": {},
     "output_type": "execute_result"
    }
   ],
   "source": [
    "queue.append('height')\n",
    "queue"
   ]
  },
  {
   "cell_type": "code",
   "execution_count": 163,
   "id": "6e83cc86",
   "metadata": {},
   "outputs": [
    {
     "data": {
      "text/plain": [
       "deque(['id', 'name', 'age', 'DOB', 'height'])"
      ]
     },
     "execution_count": 163,
     "metadata": {},
     "output_type": "execute_result"
    }
   ],
   "source": [
    "queue.appendleft('id')\n",
    "queue"
   ]
  },
  {
   "cell_type": "code",
   "execution_count": 164,
   "id": "1bd14add",
   "metadata": {},
   "outputs": [
    {
     "data": {
      "text/plain": [
       "deque(['id', 'name', 'age', 'DOB'])"
      ]
     },
     "execution_count": 164,
     "metadata": {},
     "output_type": "execute_result"
    }
   ],
   "source": [
    "queue.pop()\n",
    "queue"
   ]
  },
  {
   "cell_type": "code",
   "execution_count": 165,
   "id": "3af02e51",
   "metadata": {},
   "outputs": [
    {
     "data": {
      "text/plain": [
       "deque(['name', 'age', 'DOB'])"
      ]
     },
     "execution_count": 165,
     "metadata": {},
     "output_type": "execute_result"
    }
   ],
   "source": [
    "queue.popleft()\n",
    "queue"
   ]
  },
  {
   "cell_type": "markdown",
   "id": "fbec42de",
   "metadata": {},
   "source": [
    "### Comprehension"
   ]
  },
  {
   "cell_type": "code",
   "execution_count": 166,
   "id": "46a6fdb3",
   "metadata": {},
   "outputs": [
    {
     "data": {
      "text/plain": [
       "['kim is male and 15 years old.',\n",
       " 'park is female and 19 years old.',\n",
       " 'lee is male and 21 years old.']"
      ]
     },
     "execution_count": 166,
     "metadata": {},
     "output_type": "execute_result"
    }
   ],
   "source": [
    "# Normal List\n",
    "person_list = list(\n",
    "    map(\n",
    "        lambda person: f\"{person['name']} is {person['gender']} and {person['age']} years old.\", \n",
    "        dic_list))\n",
    "person_list"
   ]
  },
  {
   "cell_type": "code",
   "execution_count": 169,
   "id": "dfbef159",
   "metadata": {},
   "outputs": [
    {
     "data": {
      "text/plain": [
       "['kim is male and 15 years old.',\n",
       " 'park is female and 19 years old.',\n",
       " 'lee is male and 21 years old.']"
      ]
     },
     "execution_count": 169,
     "metadata": {},
     "output_type": "execute_result"
    }
   ],
   "source": [
    "person_list = []\n",
    "for person in dic_list:\n",
    "    person_list.append(f\"{person['name']} is {person['gender']} and {person['age']} years old.\")\n",
    "person_list"
   ]
  },
  {
   "cell_type": "code",
   "execution_count": 167,
   "id": "d13c2f28",
   "metadata": {},
   "outputs": [
    {
     "data": {
      "text/plain": [
       "['kim is male and 15 years old.',\n",
       " 'park is female and 19 years old.',\n",
       " 'lee is male and 21 years old.']"
      ]
     },
     "execution_count": 167,
     "metadata": {},
     "output_type": "execute_result"
    }
   ],
   "source": [
    "# Comprehension\n",
    "person_list = [f\"{person['name']} is {person['gender']} and {person['age']} years old.\" for person in dic_list]\n",
    "person_list"
   ]
  },
  {
   "cell_type": "code",
   "execution_count": 170,
   "id": "53d2a124",
   "metadata": {},
   "outputs": [
    {
     "data": {
      "text/plain": [
       "['0103331131', '0102221111', '01032131311']"
      ]
     },
     "execution_count": 170,
     "metadata": {},
     "output_type": "execute_result"
    }
   ],
   "source": [
    "phone_list = [' 010-333-1131 ', '010,222,1111', '010 3213 1311']\n",
    "\n",
    "new_list = []\n",
    "for phone in phone_list:\n",
    "    phone = phone.strip().replace('-', '').replace(',', '').replace(' ', '')\n",
    "    new_list.append(phone)\n",
    "\n",
    "clear_phone_number = [phone.strip().replace('-', '').replace(',', '').replace(' ', '') for phone in phone_list]\n",
    "clear_phone_number"
   ]
  },
  {
   "cell_type": "code",
   "execution_count": 171,
   "id": "32591949",
   "metadata": {},
   "outputs": [
    {
     "name": "stdout",
     "output_type": "stream",
     "text": [
      "kim is male and 15 years old.\n",
      "park is female and 19 years old.\n",
      "lee is male and 21 years old.\n"
     ]
    }
   ],
   "source": [
    "person_list = (f\"{person['name']} is {person['gender']} and {person['age']} years old.\" for person in dic_list)\n",
    "for person in person_list:\n",
    "    print(person)"
   ]
  },
  {
   "cell_type": "code",
   "execution_count": 172,
   "id": "f710439c",
   "metadata": {},
   "outputs": [
    {
     "data": {
      "text/plain": [
       "['kim is not adult.', 'park is not adult.', 'lee is adult.']"
      ]
     },
     "execution_count": 172,
     "metadata": {},
     "output_type": "execute_result"
    }
   ],
   "source": [
    "# Normal List with Lambda condition\n",
    "list(\n",
    "    map(\n",
    "        lambda x: \n",
    "        f\"{x['name']} is adult.\" if x['age'] > 20 \n",
    "        else f\"{x['name']} is not adult.\", \n",
    "    dic_list))"
   ]
  },
  {
   "cell_type": "code",
   "execution_count": 173,
   "id": "78b6e929",
   "metadata": {},
   "outputs": [
    {
     "data": {
      "text/plain": [
       "['lee is male and 21 years old.']"
      ]
     },
     "execution_count": 173,
     "metadata": {},
     "output_type": "execute_result"
    }
   ],
   "source": [
    "# Comprehension with Labmda condition\n",
    "person_list = [f\"{person['name']} is {person['gender']} and {person['age']} years old.\" for person in dic_list if person['age'] > 20]\n",
    "person_list"
   ]
  },
  {
   "cell_type": "markdown",
   "id": "02239148",
   "metadata": {},
   "source": [
    "#### List Comprehension"
   ]
  },
  {
   "cell_type": "code",
   "execution_count": 174,
   "id": "15555a40",
   "metadata": {},
   "outputs": [
    {
     "data": {
      "text/plain": [
       "[0, 2, 4, 6, 8, 10, 12, 14, 16, 18, 20]"
      ]
     },
     "execution_count": 174,
     "metadata": {},
     "output_type": "execute_result"
    }
   ],
   "source": [
    "# 20까지의 짝수를 출력하기 위해 다음과 같은 LC를 사용할 수 있다\n",
    "evens = [x * 2 for x in range(11)]\n",
    "evens"
   ]
  },
  {
   "cell_type": "code",
   "execution_count": 175,
   "id": "864abdf6",
   "metadata": {},
   "outputs": [
    {
     "data": {
      "text/plain": [
       "[1.0587155963302752,\n",
       " 1.0220183486238532,\n",
       " 1.1761467889908257,\n",
       " 1.0770642201834861,\n",
       " 1.0587155963302752,\n",
       " 1.1706422018348623,\n",
       " 1.0568807339449542,\n",
       " 1.0422018348623854,\n",
       " 1.1192660550458715,\n",
       " 1.0788990825688074,\n",
       " 1.1394495412844037]"
      ]
     },
     "execution_count": 175,
     "metadata": {},
     "output_type": "execute_result"
    }
   ],
   "source": [
    "# 리스트의 모든 원소값을 정규화 시킨 후 상수값을 더하는 LC\n",
    "vals = [32, 12, 96, 42, 32, 93, 31, 23, 65, 43, 76]\n",
    "amount = sum(vals)\n",
    "norm_and_move = [(x / amount) + 1 for x in vals]\n",
    "norm_and_move"
   ]
  },
  {
   "cell_type": "code",
   "execution_count": 176,
   "id": "92144879",
   "metadata": {},
   "outputs": [
    {
     "name": "stdout",
     "output_type": "stream",
     "text": [
      "[2, 3, 5, 6, 7, 8, 10, 12, 13, 15, 18, 19, 20, 23, 24, 26, 28, 29, 31, 32, 37, 38, 40, 43, 45, 48]\n"
     ]
    }
   ],
   "source": [
    "# 100 이하의 제곱수가 아닌 수를 찾는 LC\n",
    "from math import sqrt\n",
    "non_squars = [x for x in range(50) if sqrt(x)**2 != x]\n",
    "print(non_squars)"
   ]
  },
  {
   "cell_type": "code",
   "execution_count": 177,
   "id": "d5cc6094",
   "metadata": {},
   "outputs": [
    {
     "data": {
      "text/plain": [
       "[('sweet', 'john'),\n",
       " ('sweet', 'alice'),\n",
       " ('sweet', 'james'),\n",
       " ('annoying', 'john'),\n",
       " ('annoying', 'alice'),\n",
       " ('annoying', 'james'),\n",
       " ('cool', 'john'),\n",
       " ('cool', 'alice'),\n",
       " ('cool', 'james'),\n",
       " ('grey-eyed', 'john'),\n",
       " ('grey-eyed', 'alice'),\n",
       " ('grey-eyed', 'james')]"
      ]
     },
     "execution_count": 177,
     "metadata": {},
     "output_type": "execute_result"
    }
   ],
   "source": [
    "# 두 리스트의 원소들의 모든 조합을 찾는 LC\n",
    "epithets = ['sweet', 'annoying', 'cool', 'grey-eyed']\n",
    "names = ['john', 'alice', 'james']\n",
    "epithet_names = [\n",
    "    (e, n) \n",
    "    for e in epithets \n",
    "    for n in names]\n",
    "epithet_names"
   ]
  },
  {
   "cell_type": "code",
   "execution_count": 178,
   "id": "bec9f07f",
   "metadata": {},
   "outputs": [
    {
     "data": {
      "text/plain": [
       "[(3, 4, 5),\n",
       " (5, 12, 13),\n",
       " (6, 8, 10),\n",
       " (7, 24, 25),\n",
       " (8, 15, 17),\n",
       " (9, 12, 15),\n",
       " (10, 24, 26),\n",
       " (12, 16, 20),\n",
       " (15, 20, 25),\n",
       " (20, 21, 29)]"
      ]
     },
     "execution_count": 178,
     "metadata": {},
     "output_type": "execute_result"
    }
   ],
   "source": [
    "# a^2 + b^2 = c^2 (a < b < c)를 만족하는 피타고라스 방정식의 해를 찾는 LC\n",
    "solutions = [\n",
    "    (x, y, z) \n",
    "    for x in range(1, 30)\n",
    "    for y in range(x, 30) \n",
    "    for z in range(y, 30) \n",
    "    if x**2 + y**2 == z**2]\n",
    "solutions"
   ]
  },
  {
   "cell_type": "code",
   "execution_count": 179,
   "id": "d875920c",
   "metadata": {},
   "outputs": [
    {
     "data": {
      "text/plain": [
       "'mthmtcs'"
      ]
     },
     "execution_count": 179,
     "metadata": {},
     "output_type": "execute_result"
    }
   ],
   "source": [
    "# 단어에서 모음을 제거하는 LC\n",
    "word = 'mathematics'\n",
    "without_vowels = ''.join([\n",
    "    c \n",
    "    for c in word \n",
    "    if c not in ['a', 'e', 'i', 'o', 'u']])\n",
    "without_vowels"
   ]
  },
  {
   "cell_type": "code",
   "execution_count": 180,
   "id": "a85f675a",
   "metadata": {},
   "outputs": [
    {
     "data": {
      "text/plain": [
       "[1, 2, 3, 4, 5, 6, 7, 8, 9, 10, 11, 12]"
      ]
     },
     "execution_count": 180,
     "metadata": {},
     "output_type": "execute_result"
    }
   ],
   "source": [
    "# 행렬을 일차원화 시키는 LC\n",
    "matrix = [\n",
    "  [1, 2, 3, 4],\n",
    "  [5, 6, 7, 8],\n",
    "  [9, 10, 11, 12],\n",
    "]\n",
    "flatten = [e \n",
    "           for r in matrix # r = [1,2,3,4] , [5,6,7,8]\n",
    "           for e in r] # e = 1, 2, 3, 4\n",
    "flatten"
   ]
  },
  {
   "cell_type": "code",
   "execution_count": null,
   "id": "3e74e766",
   "metadata": {},
   "outputs": [],
   "source": [
    "!pip install numpy"
   ]
  },
  {
   "cell_type": "code",
   "execution_count": null,
   "id": "a4e3149e",
   "metadata": {},
   "outputs": [],
   "source": [
    "import numpy as np"
   ]
  },
  {
   "cell_type": "code",
   "execution_count": null,
   "id": "58c5bf1c",
   "metadata": {},
   "outputs": [],
   "source": [
    "np_matrix = np.array(matrix)\n",
    "np_matrix"
   ]
  },
  {
   "cell_type": "code",
   "execution_count": null,
   "id": "1e857117",
   "metadata": {},
   "outputs": [],
   "source": [
    "np.ravel(np_matrix).tolist()"
   ]
  },
  {
   "cell_type": "markdown",
   "id": "ee9d4d87",
   "metadata": {},
   "source": [
    "#### Set Comprehension"
   ]
  },
  {
   "cell_type": "code",
   "execution_count": 181,
   "id": "7d87df69",
   "metadata": {},
   "outputs": [
    {
     "data": {
      "text/plain": [
       "[4, 6, 8, 10, 12, 14, 6, 9, 12, 8, 12, 10, 12, 14]"
      ]
     },
     "execution_count": 181,
     "metadata": {},
     "output_type": "execute_result"
    }
   ],
   "source": [
    "# 다음의 LC는 중복된 값들을 포함한다\n",
    "no_primes = [j \n",
    "             for i in range(2, 9) \n",
    "             for j in range(i * 2, 15, i)]\n",
    "no_primes"
   ]
  },
  {
   "cell_type": "code",
   "execution_count": 182,
   "id": "d451a085",
   "metadata": {},
   "outputs": [
    {
     "data": {
      "text/plain": [
       "{4, 6, 8, 9, 10, 12, 14}"
      ]
     },
     "execution_count": 182,
     "metadata": {},
     "output_type": "execute_result"
    }
   ],
   "source": [
    "# SC를 사용하면 중복값이 없는 집합을 얻을 수 있다\n",
    "no_primes = {j \n",
    "             for i in range(2, 9) \n",
    "             for j in range(i * 2, 15, i)}\n",
    "no_primes"
   ]
  },
  {
   "cell_type": "markdown",
   "id": "2546bc03",
   "metadata": {},
   "source": [
    "#### Dictionary Comprehension"
   ]
  },
  {
   "cell_type": "code",
   "execution_count": 183,
   "id": "1791b0d9",
   "metadata": {},
   "outputs": [
    {
     "data": {
      "text/plain": [
       "{'math': 90, 'history': 80, 'english': 95, 'computer engineering': 100}"
      ]
     },
     "execution_count": 183,
     "metadata": {},
     "output_type": "execute_result"
    }
   ],
   "source": [
    "# 두 리스트를 하나의 dict로 합치는 DC. 하나는 key, 또 다른 하나는 value로 사용한다\n",
    "subjects = ['math', 'history', 'english', 'computer engineering']\n",
    "scores = [90, 80, 95, 100]\n",
    "score_dict = {\n",
    "    key: value \n",
    "    for key, value in zip(subjects, scores)}\n",
    "score_dict"
   ]
  },
  {
   "cell_type": "code",
   "execution_count": 184,
   "id": "edb7f7fb",
   "metadata": {},
   "outputs": [
    {
     "data": {
      "text/plain": [
       "{'math': 90, 'history': 80, 'english': 95, 'computer engineering': 100}"
      ]
     },
     "execution_count": 184,
     "metadata": {},
     "output_type": "execute_result"
    }
   ],
   "source": [
    "dict(zip(subjects, scores))"
   ]
  },
  {
   "cell_type": "code",
   "execution_count": 185,
   "id": "f4bed1e6",
   "metadata": {},
   "outputs": [
    {
     "data": {
      "text/plain": [
       "{'math': 90, 'history': 80, 'english': 95, 'computer engineering': 100}"
      ]
     },
     "execution_count": 185,
     "metadata": {},
     "output_type": "execute_result"
    }
   ],
   "source": [
    "# 튜플 리스트를 dict 형태로 변환하는 DC\n",
    "score_tuples = [('math', 90), ('history', 80), ('english', 95), ('computer engineering', 100)]\n",
    "score_dict = {t[0]: t[1] for t in score_tuples}\n",
    "score_dict"
   ]
  },
  {
   "cell_type": "code",
   "execution_count": 186,
   "id": "599cc245",
   "metadata": {},
   "outputs": [
    {
     "data": {
      "text/plain": [
       "{'math': 90, 'history': 80, 'english': 95, 'computer engineering': 100}"
      ]
     },
     "execution_count": 186,
     "metadata": {},
     "output_type": "execute_result"
    }
   ],
   "source": [
    "dict(score_tuples)"
   ]
  },
  {
   "cell_type": "markdown",
   "id": "15fbcfa8",
   "metadata": {},
   "source": [
    "#### Generator Expression"
   ]
  },
  {
   "cell_type": "code",
   "execution_count": 187,
   "id": "4948d476",
   "metadata": {},
   "outputs": [
    {
     "data": {
      "text/plain": [
       "<generator object <genexpr> at 0x000001B3CD645D60>"
      ]
     },
     "execution_count": 187,
     "metadata": {},
     "output_type": "execute_result"
    }
   ],
   "source": [
    "# 다음 Generator는 제곱수를 만들어낸다\n",
    "gen = (x**2 for x in range(3))\n",
    "gen"
   ]
  },
  {
   "cell_type": "code",
   "execution_count": 188,
   "id": "c0bc74ad",
   "metadata": {},
   "outputs": [
    {
     "data": {
      "text/plain": [
       "0"
      ]
     },
     "execution_count": 188,
     "metadata": {},
     "output_type": "execute_result"
    }
   ],
   "source": [
    "next(gen)"
   ]
  },
  {
   "cell_type": "code",
   "execution_count": 189,
   "id": "4f051508",
   "metadata": {},
   "outputs": [
    {
     "data": {
      "text/plain": [
       "1"
      ]
     },
     "execution_count": 189,
     "metadata": {},
     "output_type": "execute_result"
    }
   ],
   "source": [
    "next(gen)"
   ]
  },
  {
   "cell_type": "code",
   "execution_count": 190,
   "id": "0d6ed164",
   "metadata": {},
   "outputs": [
    {
     "data": {
      "text/plain": [
       "4"
      ]
     },
     "execution_count": 190,
     "metadata": {},
     "output_type": "execute_result"
    }
   ],
   "source": [
    "next(gen)"
   ]
  },
  {
   "cell_type": "code",
   "execution_count": 191,
   "id": "a85ea587",
   "metadata": {},
   "outputs": [
    {
     "ename": "StopIteration",
     "evalue": "",
     "output_type": "error",
     "traceback": [
      "\u001b[1;31m---------------------------------------------------------------------------\u001b[0m",
      "\u001b[1;31mStopIteration\u001b[0m                             Traceback (most recent call last)",
      "Cell \u001b[1;32mIn[191], line 1\u001b[0m\n\u001b[1;32m----> 1\u001b[0m \u001b[38;5;28;43mnext\u001b[39;49m\u001b[43m(\u001b[49m\u001b[43mgen\u001b[49m\u001b[43m)\u001b[49m\n",
      "\u001b[1;31mStopIteration\u001b[0m: "
     ]
    }
   ],
   "source": [
    "next(gen)"
   ]
  },
  {
   "cell_type": "code",
   "execution_count": 192,
   "id": "d89d3779",
   "metadata": {},
   "outputs": [
    {
     "data": {
      "text/plain": [
       "285"
      ]
     },
     "execution_count": 192,
     "metadata": {},
     "output_type": "execute_result"
    }
   ],
   "source": [
    "# Yes, it is an just generator. You can sum the yielding values.\n",
    "# GE로 생성한 Generator도 yield를 가진 함수로 생성한 것과 동일한 Generator이기 때문에, 똑같이 sum을 사용할 수 있다. (iterable 객체)\n",
    "gen = (x**2 for x in range(10))\n",
    "sum_of_squares = sum(gen)\n",
    "sum_of_squares"
   ]
  },
  {
   "cell_type": "markdown",
   "id": "6021bde4",
   "metadata": {},
   "source": [
    "### Class"
   ]
  },
  {
   "cell_type": "code",
   "execution_count": 193,
   "id": "d2ee8d9f",
   "metadata": {},
   "outputs": [],
   "source": [
    "class Calc:\n",
    "    def add(self, a, b):\n",
    "        return a + b\n",
    "    \n",
    "    def minus(self, a, b):\n",
    "        return a - b\n",
    "    \n",
    "    def multi(self, a, b):\n",
    "        return a * b\n",
    "    \n",
    "    def devide(self, a, b):\n",
    "        return a / b"
   ]
  },
  {
   "cell_type": "code",
   "execution_count": 194,
   "id": "2f5f6568",
   "metadata": {},
   "outputs": [
    {
     "name": "stdout",
     "output_type": "stream",
     "text": [
      "6\n",
      "2\n",
      "8\n",
      "2.0\n"
     ]
    }
   ],
   "source": [
    "myCal = Calc()\n",
    "\n",
    "print(myCal.add(4, 2))\n",
    "print(myCal.minus(4, 2))\n",
    "print(myCal.multi(4, 2))\n",
    "print(myCal.devide(4, 2))"
   ]
  },
  {
   "cell_type": "markdown",
   "id": "ba8bb5a9",
   "metadata": {},
   "source": [
    "#### 생성자 : 클래스의 객체가 생성되는 순간 호출되는 메소드"
   ]
  },
  {
   "cell_type": "code",
   "execution_count": 195,
   "id": "60132449",
   "metadata": {},
   "outputs": [],
   "source": [
    "class Person:\n",
    "    name = 'a'\n",
    "    age = 1\n",
    "    address = 'b'\n",
    "    \n",
    "    # 멤버변수의 초기화\n",
    "    def __init__(self, name='', age=0, address=''):\n",
    "        self.name = name\n",
    "        self.age = age\n",
    "        self.address = address\n",
    "        \n",
    "    def set_info(self, name, age, address):\n",
    "        self.name = name\n",
    "        self.age = age\n",
    "        self.address = address\n",
    "        \n",
    "    def info(self):\n",
    "        print(f'Name:{self.name}, Age:{self.age}, Address:{self.address}')"
   ]
  },
  {
   "cell_type": "code",
   "execution_count": 196,
   "id": "5a5822bb",
   "metadata": {},
   "outputs": [
    {
     "name": "stdout",
     "output_type": "stream",
     "text": [
      "Name:Kim, Age:20, Address:Seoul\n"
     ]
    }
   ],
   "source": [
    "person_a = Person('Kim', 20, 'Seoul')\n",
    "person_a.info()"
   ]
  },
  {
   "cell_type": "code",
   "execution_count": 197,
   "id": "4aa31fc7",
   "metadata": {},
   "outputs": [
    {
     "name": "stdout",
     "output_type": "stream",
     "text": [
      "Name:, Age:0, Address:\n",
      "Name:Park, Age:20, Address:Pusan\n"
     ]
    }
   ],
   "source": [
    "person_b = Person()\n",
    "person_b.info()\n",
    "person_b.set_info('Park', 20, 'Pusan')\n",
    "person_b.info()"
   ]
  },
  {
   "cell_type": "markdown",
   "id": "a27fb85a",
   "metadata": {},
   "source": [
    "#### 상속 (생성자&소멸자)"
   ]
  },
  {
   "cell_type": "code",
   "execution_count": 198,
   "id": "ff9f4cd7",
   "metadata": {},
   "outputs": [],
   "source": [
    "class Animal:\n",
    "    name = ''\n",
    "    gender = ''\n",
    "    \n",
    "    def __init__(self, name, gender):\n",
    "        self.name = name\n",
    "        self.gender = gender\n",
    "        \n",
    "    def say(self):\n",
    "        print('Ah~')\n",
    "        \n",
    "    def info(self):\n",
    "        print(f'Name: {self.name}, Gender: {self.gender}')\n",
    "        \n",
    "class Dog(Animal):\n",
    "    fur_color = ''\n",
    "    \n",
    "    def __init__(self, name, gender, fur_color):\n",
    "        super().__init__(name, gender)\n",
    "        # Animal.__init__(self, name, gender)\n",
    "        self.fur_color = fur_color\n",
    "        \n",
    "    def info(self):\n",
    "        super().info()\n",
    "#         Animal.info(self)\n",
    "        print(f'Fur Color: {self.fur_color}')\n",
    "    \n",
    "    def say(self):\n",
    "        print('MungMung~')\n",
    "        \n",
    "    def __del__(self):\n",
    "        print(\"I'm gone\")\n",
    "        \n",
    "class Cat(Animal):    \n",
    "    eye_color = ''\n",
    "    \n",
    "    def __init__(self, name, gender, eye_color):\n",
    "        self.name = name\n",
    "        self.gender = gender\n",
    "        self.eye_color = eye_color\n",
    "    \n",
    "    def info(self):\n",
    "        print(f'Name: {self.name}, Gender: {self.gender}, EyeColor: {self.eye_color}')\n",
    "    \n",
    "    def say(self):\n",
    "        print('Yaong~')"
   ]
  },
  {
   "cell_type": "code",
   "execution_count": 199,
   "id": "440d0285",
   "metadata": {},
   "outputs": [
    {
     "name": "stdout",
     "output_type": "stream",
     "text": [
      "Name: Dongmul, Gender: Male\n",
      "Ah~\n"
     ]
    }
   ],
   "source": [
    "animal = Animal('Dongmul', 'Male')\n",
    "animal.info()\n",
    "animal.say()"
   ]
  },
  {
   "cell_type": "code",
   "execution_count": 200,
   "id": "2e497fea",
   "metadata": {},
   "outputs": [
    {
     "name": "stdout",
     "output_type": "stream",
     "text": [
      "Name: Baduk, Gender: Male\n",
      "Fur Color: Black\n",
      "MungMung~\n"
     ]
    }
   ],
   "source": [
    "dog = Dog('Baduk', 'Male', 'Black')\n",
    "dog.info()\n",
    "dog.say()"
   ]
  },
  {
   "cell_type": "code",
   "execution_count": 201,
   "id": "84d2b669",
   "metadata": {},
   "outputs": [
    {
     "name": "stdout",
     "output_type": "stream",
     "text": [
      "Name: Nabi, Gender: Female, EyeColor: Brown\n",
      "Yaong~\n"
     ]
    }
   ],
   "source": [
    "cat = Cat('Nabi', 'Female', 'Brown')\n",
    "cat.info()\n",
    "cat.say()"
   ]
  },
  {
   "cell_type": "code",
   "execution_count": 202,
   "id": "dc40ffe6",
   "metadata": {},
   "outputs": [
    {
     "name": "stdout",
     "output_type": "stream",
     "text": [
      "I'm gone\n"
     ]
    }
   ],
   "source": [
    "del dog"
   ]
  },
  {
   "cell_type": "markdown",
   "id": "2e33ede9",
   "metadata": {},
   "source": [
    "#### 클래스 변수, 메소드 / 정적 메소드"
   ]
  },
  {
   "cell_type": "code",
   "execution_count": 203,
   "id": "55ec27a3",
   "metadata": {},
   "outputs": [],
   "source": [
    "class color:\n",
    "    BLACK = 0\n",
    "    RED = 1"
   ]
  },
  {
   "cell_type": "code",
   "execution_count": 204,
   "id": "02c9cd5a",
   "metadata": {},
   "outputs": [
    {
     "data": {
      "text/plain": [
       "1"
      ]
     },
     "execution_count": 204,
     "metadata": {},
     "output_type": "execute_result"
    }
   ],
   "source": [
    "color.RED"
   ]
  },
  {
   "cell_type": "code",
   "execution_count": 232,
   "id": "51214657",
   "metadata": {},
   "outputs": [],
   "source": [
    "class Math:\n",
    "    class_pi = 3.14\n",
    "    \n",
    "    def __init__(self):\n",
    "        self.pi = 3.14\n",
    "        \n",
    "    @classmethod\n",
    "    def class_add(self, a, b):\n",
    "#         print(self.pi)\n",
    "#         self.add\n",
    "        return a+b\n",
    "    \n",
    "    @staticmethod\n",
    "    def static_add(a, b):\n",
    "#         print(self.pi)\n",
    "#         self.add\n",
    "        return a+b\n",
    "        \n",
    "    def add(self, a, b):\n",
    "        return a+b"
   ]
  },
  {
   "cell_type": "code",
   "execution_count": 218,
   "id": "5df9bdd8",
   "metadata": {},
   "outputs": [
    {
     "data": {
      "text/plain": [
       "3.14"
      ]
     },
     "execution_count": 218,
     "metadata": {},
     "output_type": "execute_result"
    }
   ],
   "source": [
    "Math.class_pi"
   ]
  },
  {
   "cell_type": "code",
   "execution_count": 221,
   "id": "91d668aa",
   "metadata": {},
   "outputs": [
    {
     "data": {
      "text/plain": [
       "3"
      ]
     },
     "execution_count": 221,
     "metadata": {},
     "output_type": "execute_result"
    }
   ],
   "source": [
    "Math.class_add(1,2)"
   ]
  },
  {
   "cell_type": "code",
   "execution_count": 222,
   "id": "08c5cfc2",
   "metadata": {},
   "outputs": [
    {
     "data": {
      "text/plain": [
       "3"
      ]
     },
     "execution_count": 222,
     "metadata": {},
     "output_type": "execute_result"
    }
   ],
   "source": [
    "Math.static_add(1,2)"
   ]
  },
  {
   "cell_type": "code",
   "execution_count": 223,
   "id": "1b601b82",
   "metadata": {},
   "outputs": [
    {
     "ename": "AttributeError",
     "evalue": "type object 'Math' has no attribute 'pi'",
     "output_type": "error",
     "traceback": [
      "\u001b[1;31m---------------------------------------------------------------------------\u001b[0m",
      "\u001b[1;31mAttributeError\u001b[0m                            Traceback (most recent call last)",
      "Cell \u001b[1;32mIn[223], line 1\u001b[0m\n\u001b[1;32m----> 1\u001b[0m \u001b[43mMath\u001b[49m\u001b[38;5;241;43m.\u001b[39;49m\u001b[43mpi\u001b[49m\n",
      "\u001b[1;31mAttributeError\u001b[0m: type object 'Math' has no attribute 'pi'"
     ]
    }
   ],
   "source": [
    "Math.pi"
   ]
  },
  {
   "cell_type": "code",
   "execution_count": 224,
   "id": "46cba051",
   "metadata": {},
   "outputs": [
    {
     "ename": "TypeError",
     "evalue": "add() missing 1 required positional argument: 'b'",
     "output_type": "error",
     "traceback": [
      "\u001b[1;31m---------------------------------------------------------------------------\u001b[0m",
      "\u001b[1;31mTypeError\u001b[0m                                 Traceback (most recent call last)",
      "Cell \u001b[1;32mIn[224], line 1\u001b[0m\n\u001b[1;32m----> 1\u001b[0m \u001b[43mMath\u001b[49m\u001b[38;5;241;43m.\u001b[39;49m\u001b[43madd\u001b[49m\u001b[43m(\u001b[49m\u001b[38;5;241;43m1\u001b[39;49m\u001b[43m,\u001b[49m\u001b[43m \u001b[49m\u001b[38;5;241;43m2\u001b[39;49m\u001b[43m)\u001b[49m\n",
      "\u001b[1;31mTypeError\u001b[0m: add() missing 1 required positional argument: 'b'"
     ]
    }
   ],
   "source": [
    "Math.add(1, 2)"
   ]
  },
  {
   "cell_type": "code",
   "execution_count": 225,
   "id": "a2143cf0",
   "metadata": {},
   "outputs": [
    {
     "name": "stdout",
     "output_type": "stream",
     "text": [
      "3.14\n",
      "3\n"
     ]
    }
   ],
   "source": [
    "math = Math()\n",
    "print(math.pi)\n",
    "print(math.add(1,2))"
   ]
  },
  {
   "cell_type": "code",
   "execution_count": 226,
   "id": "5d104b53",
   "metadata": {},
   "outputs": [
    {
     "name": "stdout",
     "output_type": "stream",
     "text": [
      "3\n",
      "3\n"
     ]
    }
   ],
   "source": [
    "print(math.class_add(1,2))\n",
    "print(math.static_add(1,2))"
   ]
  },
  {
   "cell_type": "code",
   "execution_count": 227,
   "id": "b1c1eebf",
   "metadata": {},
   "outputs": [
    {
     "data": {
      "text/plain": [
       "10"
      ]
     },
     "execution_count": 227,
     "metadata": {},
     "output_type": "execute_result"
    }
   ],
   "source": [
    "Math.static_pi = 10\n",
    "Math.static_pi"
   ]
  },
  {
   "cell_type": "code",
   "execution_count": 229,
   "id": "a9b9700c",
   "metadata": {},
   "outputs": [
    {
     "data": {
      "text/plain": [
       "3"
      ]
     },
     "execution_count": 229,
     "metadata": {},
     "output_type": "execute_result"
    }
   ],
   "source": [
    "Math.class_add(1,2)"
   ]
  },
  {
   "cell_type": "code",
   "execution_count": 235,
   "id": "d244b963",
   "metadata": {},
   "outputs": [
    {
     "data": {
      "text/plain": [
       "2.0"
      ]
     },
     "execution_count": 235,
     "metadata": {},
     "output_type": "execute_result"
    }
   ],
   "source": [
    "Math.class_add = lambda x, y: x/y\n",
    "Math.class_add(4, 2)"
   ]
  },
  {
   "cell_type": "code",
   "execution_count": 236,
   "id": "fa3def9a",
   "metadata": {},
   "outputs": [
    {
     "data": {
      "text/plain": [
       "8"
      ]
     },
     "execution_count": 236,
     "metadata": {},
     "output_type": "execute_result"
    }
   ],
   "source": [
    "Math.static_add = lambda x, y: x*y\n",
    "Math.static_add(4, 2)"
   ]
  },
  {
   "cell_type": "code",
   "execution_count": null,
   "id": "ab64d69f",
   "metadata": {},
   "outputs": [],
   "source": []
  }
 ],
 "metadata": {
  "kernelspec": {
   "display_name": "Python 3 (ipykernel)",
   "language": "python",
   "name": "python3"
  },
  "language_info": {
   "codemirror_mode": {
    "name": "ipython",
    "version": 3
   },
   "file_extension": ".py",
   "mimetype": "text/x-python",
   "name": "python",
   "nbconvert_exporter": "python",
   "pygments_lexer": "ipython3",
   "version": "3.9.12"
  }
 },
 "nbformat": 4,
 "nbformat_minor": 5
}
